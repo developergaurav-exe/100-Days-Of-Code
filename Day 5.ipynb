{
 "cells": [
  {
   "cell_type": "markdown",
   "metadata": {},
   "source": [
    "### For loops, Range and Code Blocks"
   ]
  },
  {
   "cell_type": "markdown",
   "metadata": {},
   "source": [
    "#### PyPassword Generator"
   ]
  },
  {
   "cell_type": "code",
   "execution_count": 147,
   "metadata": {},
   "outputs": [
    {
     "name": "stdout",
     "output_type": "stream",
     "text": [
      "Welcome to the PyPassword Generator!\n",
      "Your Password:  G6D7!I6#%#3\n"
     ]
    }
   ],
   "source": [
    "import random\n",
    "letters = ['a', 'b', 'c', 'd', 'e', 'f', 'g', 'h', 'i', 'j', 'k', 'l', 'm', 'n', 'o', 'p', 'q', 'r', 's', 't', 'u', 'v', 'w', 'x', 'y', 'z', 'A', 'B', 'C', 'D', 'E', 'F', 'G', 'H', 'I', 'J', 'K', 'L', 'M', 'N', 'O', 'P', 'Q', 'R', 'S', 'T', 'U', 'V', 'W', 'X', 'Y', 'Z']\n",
    "numbers = ['0', '1', '2', '3', '4', '5', '6', '7', '8', '9']\n",
    "symbols = ['!', '#', '$', '%', '&', '(', ')', '*', '+']\n",
    "\n",
    "print('Welcome to the PyPassword Generator!')\n",
    "letter = int(input('How many letters would you like in your password?'))\n",
    "symbol = int(input('How many symbols would you like?'))\n",
    "number = int(input('How many numbers would you like?'))\n",
    "\n",
    "string = ''\n",
    "for i in range(letter):\n",
    "    string += random.choice(letters) # I used random.sample(letters, len(letters))[i]\n",
    "\n",
    "for i in range(symbol):\n",
    "    string += random.choice(symbols)\n",
    "\n",
    "for i in range(number):\n",
    "    string += random.choice(numbers)\n",
    "\n",
    "print(\"Your Password: \", ''.join(random.sample(list(string), len(list(string))))) # join method to convert list back to the string, random.sample for returning shuffled array and not doing inplace shuffling\n"
   ]
  },
  {
   "cell_type": "code",
   "execution_count": 145,
   "metadata": {},
   "outputs": [
    {
     "data": {
      "text/plain": [
       "'n'"
      ]
     },
     "execution_count": 145,
     "metadata": {},
     "output_type": "execute_result"
    }
   ],
   "source": [
    "random.choice(letters) # choice function much better to use... I didn't know about it"
   ]
  },
  {
   "cell_type": "code",
   "execution_count": null,
   "metadata": {},
   "outputs": [],
   "source": [
    "'''Angela's Solution: HARD LEVEL'''\n",
    "#Password Generator Project\n",
    "import random\n",
    "letters = ['a', 'b', 'c', 'd', 'e', 'f', 'g', 'h', 'i', 'j', 'k', 'l', 'm', 'n', 'o', 'p', 'q', 'r', 's', 't', 'u', 'v', 'w', 'x', 'y', 'z', 'A', 'B', 'C', 'D', 'E', 'F', 'G', 'H', 'I', 'J', 'K', 'L', 'M', 'N', 'O', 'P', 'Q', 'R', 'S', 'T', 'U', 'V', 'W', 'X', 'Y', 'Z']\n",
    "numbers = ['0', '1', '2', '3', '4', '5', '6', '7', '8', '9']\n",
    "symbols = ['!', '#', '$', '%', '&', '(', ')', '*', '+']\n",
    "\n",
    "print(\"Welcome to the PyPassword Generator!\")\n",
    "nr_letters = int(input(\"How many letters would you like in your password?\\n\")) \n",
    "nr_symbols = int(input(f\"How many symbols would you like?\\n\"))\n",
    "nr_numbers = int(input(f\"How many numbers would you like?\\n\"))\n",
    "\n",
    "#Eazy Level\n",
    "# password = \"\"\n",
    "\n",
    "# for char in range(1, nr_letters + 1):\n",
    "#   password += random.choice(letters)\n",
    "\n",
    "# for char in range(1, nr_symbols + 1):\n",
    "#   password += random.choice(symbols)\n",
    "\n",
    "# for char in range(1, nr_numbers + 1):\n",
    "#   password += random.choice(numbers)\n",
    "\n",
    "# print(password)\n",
    "\n",
    "#Hard Level\n",
    "password_list = []\n",
    "\n",
    "for char in range(1, nr_letters + 1):\n",
    "  password_list.append(random.choice(letters))\n",
    "\n",
    "for char in range(1, nr_symbols + 1):\n",
    "  password_list += random.choice(symbols)\n",
    "\n",
    "for char in range(1, nr_numbers + 1):\n",
    "  password_list += random.choice(numbers)\n",
    "\n",
    "print(password_list)\n",
    "random.shuffle(password_list)\n",
    "print(password_list)\n",
    "\n",
    "password = \"\"\n",
    "for char in password_list:\n",
    "  password += char\n",
    "\n",
    "print(f\"Your password is: {password}\")"
   ]
  }
 ],
 "metadata": {
  "kernelspec": {
   "display_name": "Python 3.10.5 64-bit",
   "language": "python",
   "name": "python3"
  },
  "language_info": {
   "codemirror_mode": {
    "name": "ipython",
    "version": 3
   },
   "file_extension": ".py",
   "mimetype": "text/x-python",
   "name": "python",
   "nbconvert_exporter": "python",
   "pygments_lexer": "ipython3",
   "version": "3.10.5"
  },
  "orig_nbformat": 4,
  "vscode": {
   "interpreter": {
    "hash": "e8899eb02dfbc033aab5733bdae1bd213fa031d40331094008e8673d99ebab63"
   }
  }
 },
 "nbformat": 4,
 "nbformat_minor": 2
}
