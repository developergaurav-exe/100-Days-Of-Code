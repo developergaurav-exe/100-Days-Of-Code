{
 "cells": [
  {
   "cell_type": "markdown",
   "metadata": {},
   "source": [
    "### Scope and Number Guessing game"
   ]
  },
  {
   "cell_type": "code",
   "execution_count": 2,
   "metadata": {},
   "outputs": [
    {
     "data": {
      "text/plain": [
       "\"\\nIf we create a variable inside a while/for/if block, then it's available globally.\\nIf we create a variable inside a function, then the variable has a local scope.\\n\""
      ]
     },
     "execution_count": 2,
     "metadata": {},
     "output_type": "execute_result"
    }
   ],
   "source": [
    "'''\n",
    "If we create a variable inside a while/for/if block, then it's available globally.\n",
    "If we create a variable inside a function, then the variable has a local scope.\n",
    "'''"
   ]
  },
  {
   "cell_type": "code",
   "execution_count": 3,
   "metadata": {},
   "outputs": [
    {
     "name": "stdout",
     "output_type": "stream",
     "text": [
      "Value of v = 2\n"
     ]
    }
   ],
   "source": [
    "v = 1\n",
    "def func():\n",
    "    global v # to avoid Unbound local error\n",
    "    v += 1\n",
    "    print(f'Value of v = {v}')\n",
    "\n",
    "func()"
   ]
  },
  {
   "cell_type": "markdown",
   "metadata": {},
   "source": [
    "#### Number guessing game"
   ]
  },
  {
   "cell_type": "code",
   "execution_count": 4,
   "metadata": {},
   "outputs": [],
   "source": [
    "import random\n",
    "from art import number_art"
   ]
  },
  {
   "cell_type": "code",
   "execution_count": 5,
   "metadata": {},
   "outputs": [
    {
     "name": "stdout",
     "output_type": "stream",
     "text": [
      "\n",
      "   ___                  _   _                         _            \n",
      "  / __|_  _ ___ ______ | |_| |_  ___   _ _ _  _ _ __ | |__ ___ _ _ \n",
      " | (_ | || / -_(_-(_-< |  _| ' \\/ -_) | ' | || | '  \\| '_ / -_| '_|\n",
      "  \\___|\\_,_\\___/__/__/  \\__|_||_\\___| |_||_\\_,_|_|_|_|_.__\\___|_|  \n",
      "                                                                   \n",
      "\n",
      "Welcome to the Number Guessing Game\n",
      "I am thinking of a number between 1 and 100.\n",
      "You have 10 attempts remaining to guess the number.\n",
      "Your guess 50 is Too High\n",
      "Guess Again.\n",
      "You have 9 attempts remaining to guess the number.\n",
      "Your guess 30 is Too High\n",
      "Guess Again.\n",
      "You have 8 attempts remaining to guess the number.\n",
      "Your guess 20 is Too Low\n",
      "Guess Again.\n",
      "You have 7 attempts remaining to guess the number.\n",
      "Your guess 25 is Too High\n",
      "Guess Again.\n",
      "You have 6 attempts remaining to guess the number.\n",
      "You guessed it right! The number was 23\n"
     ]
    }
   ],
   "source": [
    "def g(lives):\n",
    "    restart = True\n",
    "    number = random.choice(range(1,101))\n",
    "\n",
    "    while restart:\n",
    "        print(f\"You have {lives} attempts remaining to guess the number.\")\n",
    "        guess = int(input(\"Make a guess: \"))\n",
    "\n",
    "        if guess > number:\n",
    "            print(f\"Your guess {guess} is Too High\\nGuess Again.\")\n",
    "            lives -= 1\n",
    "            \n",
    "        elif guess < number:\n",
    "            print(f\"Your guess {guess} is Too Low\\nGuess Again.\")\n",
    "            lives -= 1\n",
    "\n",
    "        elif guess == number:\n",
    "            print(f\"You guessed it right! The number was {number}\")\n",
    "            restart = False\n",
    "\n",
    "        if lives == 0:\n",
    "            print(f\"You exhausted all the attempts! You lose! The number was {number}\")\n",
    "            restart = False\n",
    "\n",
    "print(number_art)\n",
    "print(\"Welcome to the Number Guessing Game\")\n",
    "print(\"I am thinking of a number between 1 and 100.\")\n",
    "choice = input(\"Choose a difficulty. 'easy' or 'hard': \")\n",
    "\n",
    "if choice.lower() == 'easy':\n",
    "    g(10)\n",
    "\n",
    "elif choice.lower() == 'hard':\n",
    "    g(5)\n",
    "\n",
    "else:\n",
    "    print(\"Wrong Input!\") "
   ]
  },
  {
   "cell_type": "markdown",
   "metadata": {},
   "source": [
    "#### Angela's Solution: Looks hard to me"
   ]
  },
  {
   "cell_type": "code",
   "execution_count": null,
   "metadata": {},
   "outputs": [],
   "source": [
    "from random import randint\n",
    "from art import logo\n",
    "\n",
    "EASY_LEVEL_TURNS = 10\n",
    "HARD_LEVEL_TURNS = 5\n",
    "\n",
    "#Function to check user's guess against actual answer.\n",
    "def check_answer(guess, answer, turns):\n",
    "  \"\"\"checks answer against guess. Returns the number of turns remaining.\"\"\"\n",
    "  if guess > answer:\n",
    "    print(\"Too high.\")\n",
    "    return turns - 1\n",
    "  elif guess < answer:\n",
    "    print(\"Too low.\")\n",
    "    return turns - 1\n",
    "  else:\n",
    "    print(f\"You got it! The answer was {answer}.\")\n",
    "  \n",
    "#Make function to set difficulty.\n",
    "def set_difficulty():\n",
    "  level = input(\"Choose a difficulty. Type 'easy' or 'hard': \")\n",
    "  if level == \"easy\":\n",
    "    return EASY_LEVEL_TURNS\n",
    "  else:\n",
    "    return HARD_LEVEL_TURNS\n",
    "  \n",
    "def game():\n",
    "  print(logo)\n",
    "  #Choosing a random number between 1 and 100.\n",
    "  print(\"Welcome to the Number Guessing Game!\")\n",
    "  print(\"I'm thinking of a number between 1 and 100.\")\n",
    "  answer = randint(1, 100)\n",
    "  print(f\"Pssst, the correct answer is {answer}\") \n",
    "  \n",
    "  turns = set_difficulty()\n",
    "  #Repeat the guessing functionality if they get it wrong.\n",
    "  guess = 0\n",
    "  while guess != answer:\n",
    "    print(f\"You have {turns} attempts remaining to guess the number.\")\n",
    "    \n",
    "    #Let the user guess a number.\n",
    "    guess = int(input(\"Make a guess: \"))\n",
    "    \n",
    "    #Track the number of turns and reduce by 1 if they get it wrong.\n",
    "    turns = check_answer(guess, answer, turns)\n",
    "    if turns == 0:\n",
    "      print(\"You've run out of guesses, you lose.\")\n",
    "      return\n",
    "    elif guess != answer:\n",
    "      print(\"Guess again.\")\n",
    "  \n",
    "  \n",
    "game()"
   ]
  }
 ],
 "metadata": {
  "kernelspec": {
   "display_name": "Python 3.10.5 64-bit",
   "language": "python",
   "name": "python3"
  },
  "language_info": {
   "codemirror_mode": {
    "name": "ipython",
    "version": 3
   },
   "file_extension": ".py",
   "mimetype": "text/x-python",
   "name": "python",
   "nbconvert_exporter": "python",
   "pygments_lexer": "ipython3",
   "version": "3.10.5"
  },
  "orig_nbformat": 4,
  "vscode": {
   "interpreter": {
    "hash": "e8899eb02dfbc033aab5733bdae1bd213fa031d40331094008e8673d99ebab63"
   }
  }
 },
 "nbformat": 4,
 "nbformat_minor": 2
}
