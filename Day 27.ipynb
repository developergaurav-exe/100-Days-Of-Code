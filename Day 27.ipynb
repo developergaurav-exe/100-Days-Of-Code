{
 "cells": [
  {
   "cell_type": "markdown",
   "metadata": {},
   "source": [
    "### GUI with Tkinter and Function Arguments"
   ]
  },
  {
   "cell_type": "code",
   "execution_count": 8,
   "metadata": {},
   "outputs": [],
   "source": [
    "from tkinter import *\n",
    "\n",
    "window = Tk() # initialised window\n",
    "window.title(\"GUI Program\")\n",
    "window.minsize(width= 500, height= 300)\n",
    "\n",
    "# WIDGETS AVAILABLE\n",
    "\n",
    "# Label\n",
    "my_label = Label(text=\"Harsh\", font=(\"Arial\", 24, \"bold\"))\n",
    "my_label.pack()#side=\"left\") # expand=True) # Tk's geometry-management mechanism\n",
    "\n",
    "my_label['text'] = \"New Text\" # my_label can be defined in this manner or\n",
    "my_label.config(text=\"New Text\")\n",
    "\n",
    "# Button\n",
    "def click():\n",
    "    my_label.config(text= input.get()) \n",
    "\n",
    "button = Button(text=\"Click Me\", command= click)\n",
    "button.pack()\n",
    "\n",
    "# Entry\n",
    "input = Entry(width=10)\n",
    "input.pack()\n",
    "input.insert(END, string=\"Text Field\")\n",
    "\n",
    "# Text\n",
    "# Spinbox\n",
    "# Scale\n",
    "# Checkbutton\n",
    "# Radiobutton\n",
    "# Listbox\n",
    "\n",
    "window.mainloop() # loop till the window closes "
   ]
  },
  {
   "cell_type": "markdown",
   "metadata": {},
   "source": [
    "#### Full Code"
   ]
  },
  {
   "cell_type": "code",
   "execution_count": null,
   "metadata": {},
   "outputs": [],
   "source": [
    "from tkinter import *\n",
    "\n",
    "#Creating a new window and configurations\n",
    "window = Tk()\n",
    "window.title(\"Widget Examples\")\n",
    "window.minsize(width=500, height=500)\n",
    "\n",
    "#Labels\n",
    "label = Label(text=\"This is old text\")\n",
    "label.config(text=\"This is new text\")\n",
    "label.pack()\n",
    "\n",
    "#Buttons\n",
    "def action():\n",
    "    print(\"Do something\")\n",
    "\n",
    "#calls action() when pressed\n",
    "button = Button(text=\"Click Me\", command=action)\n",
    "button.pack()\n",
    "\n",
    "#Entries\n",
    "entry = Entry(width=30)\n",
    "#Add some text to begin with\n",
    "entry.insert(END, string=\"Some text to begin with.\")\n",
    "#Gets text in entry\n",
    "print(entry.get())\n",
    "entry.pack()\n",
    "\n",
    "#Text\n",
    "text = Text(height=5, width=30)\n",
    "#Puts cursor in textbox.\n",
    "text.focus()\n",
    "#Adds some text to begin with.\n",
    "text.insert(END, \"Example of multi-line text entry.\")\n",
    "#Get's current value in textbox at line 1, character 0\n",
    "print(text.get(\"1.0\", END))\n",
    "text.pack()\n",
    "\n",
    "#Spinbox\n",
    "def spinbox_used():\n",
    "    #gets the current value in spinbox.\n",
    "    print(spinbox.get())\n",
    "spinbox = Spinbox(from_=0, to=10, width=5, command=spinbox_used)\n",
    "spinbox.pack()\n",
    "\n",
    "#Scale\n",
    "#Called with current scale value.\n",
    "def scale_used(value):\n",
    "    print(value)\n",
    "scale = Scale(from_=0, to=100, command=scale_used)\n",
    "scale.pack()\n",
    "\n",
    "#Checkbutton\n",
    "def checkbutton_used():\n",
    "    #Prints 1 if On button checked, otherwise 0.\n",
    "    print(checked_state.get())\n",
    "#variable to hold on to checked state, 0 is off, 1 is on.\n",
    "checked_state = IntVar()\n",
    "checkbutton = Checkbutton(text=\"Is On?\", variable=checked_state, command=checkbutton_used)\n",
    "checked_state.get()\n",
    "checkbutton.pack()\n",
    "\n",
    "#Radiobutton\n",
    "def radio_used():\n",
    "    print(radio_state.get())\n",
    "#Variable to hold on to which radio button value is checked.\n",
    "radio_state = IntVar()\n",
    "radiobutton1 = Radiobutton(text=\"Option1\", value=1, variable=radio_state, command=radio_used)\n",
    "radiobutton2 = Radiobutton(text=\"Option2\", value=2, variable=radio_state, command=radio_used)\n",
    "radiobutton1.pack()\n",
    "radiobutton2.pack()\n",
    "\n",
    "\n",
    "#Listbox\n",
    "def listbox_used(event):\n",
    "    # Gets current selection from listbox\n",
    "    print(listbox.get(listbox.curselection()))\n",
    "\n",
    "listbox = Listbox(height=4)\n",
    "fruits = [\"Apple\", \"Pear\", \"Orange\", \"Banana\"]\n",
    "for item in fruits:\n",
    "    listbox.insert(fruits.index(item), item)\n",
    "listbox.bind(\"<<ListboxSelect>>\", listbox_used)\n",
    "listbox.pack()\n",
    "window.mainloop()"
   ]
  },
  {
   "cell_type": "markdown",
   "metadata": {},
   "source": [
    "#### Tkinter Layout Managers\n",
    "- pack()\n",
    "- place()\n",
    "- grid() [more flexible but cannot be used simultaneously with pack]"
   ]
  },
  {
   "cell_type": "code",
   "execution_count": 16,
   "metadata": {},
   "outputs": [],
   "source": [
    "from tkinter import *\n",
    "\n",
    "window = Tk() # initialised window\n",
    "window.title(\"GUI Program\")\n",
    "window.minsize(width= 500, height= 300)\n",
    "window.config(padx=50, pady=50) # Space around the Widgets\n",
    "# GRID SYSTEM\n",
    "\n",
    "label = Label(text=\"Text\")\n",
    "label.grid(column = 0, row = 0)\n",
    "\n",
    "button = Button(text=\"Button\")\n",
    "button.grid(column=1, row=1)\n",
    "\n",
    "button2 = Button(text=\"New Button\")\n",
    "button2.grid(column=2, row= 0)\n",
    "\n",
    "entry = Entry(width=30)\n",
    "entry.grid(column=3, row=2)\n",
    "\n",
    "window.mainloop() # loop till the window closes "
   ]
  },
  {
   "cell_type": "markdown",
   "metadata": {},
   "source": [
    "#### *args"
   ]
  },
  {
   "cell_type": "code",
   "execution_count": 17,
   "metadata": {},
   "outputs": [
    {
     "name": "stdout",
     "output_type": "stream",
     "text": [
      "55\n"
     ]
    }
   ],
   "source": [
    "def add(*args): # *args is tuple\n",
    "    sum = 0 \n",
    "    for i in args:\n",
    "        sum += i\n",
    "    print(sum)\n",
    "\n",
    "add(1,2,3,4,5,6,7,8,9,10)"
   ]
  },
  {
   "cell_type": "markdown",
   "metadata": {},
   "source": [
    "#### **kwargs"
   ]
  },
  {
   "cell_type": "code",
   "execution_count": 23,
   "metadata": {},
   "outputs": [
    {
     "name": "stdout",
     "output_type": "stream",
     "text": [
      "{'add': 3, 'multiply': 5}\n"
     ]
    }
   ],
   "source": [
    "def calc(**kwargs): # **kwargs is dictionary \n",
    "    print(kwargs)\n",
    "\n",
    "calc(add=3, multiply=5)"
   ]
  },
  {
   "cell_type": "markdown",
   "metadata": {},
   "source": [
    "#### **kwargs in Class, similar to how Tkinter would have been made"
   ]
  },
  {
   "cell_type": "code",
   "execution_count": 27,
   "metadata": {},
   "outputs": [
    {
     "name": "stdout",
     "output_type": "stream",
     "text": [
      "Nissan GTR None\n"
     ]
    }
   ],
   "source": [
    "class Car():\n",
    "    def __init__(self, **kwargs) -> None:\n",
    "        self.make = kwargs.get(\"make\") # benefit of using get function is: Wouldn't throw up an error\n",
    "        self.model = kwargs.get(\"model\")\n",
    "        self.seats = kwargs.get(\"seats\")\n",
    "\n",
    "car = Car(make= \"Nissan\", model= \"GTR\")\n",
    "print(car.make, car.model, car.seats)"
   ]
  },
  {
   "cell_type": "markdown",
   "metadata": {},
   "source": [
    "#### Miles to Kms Converter"
   ]
  },
  {
   "cell_type": "code",
   "execution_count": 27,
   "metadata": {},
   "outputs": [],
   "source": [
    "from tkinter import *\n",
    "\n",
    "window = Tk()\n",
    "window.title(\"Miles to Kilometers Converter\")\n",
    "window.minsize(width= 200, height= 100)\n",
    "window.config(padx=30, pady=30)\n",
    "\n",
    "miles_input = Entry(width=10)\n",
    "miles_input.grid(column=1, row=0)\n",
    "miles_input.insert(END, string=\"0\")\n",
    "\n",
    "def m_to_km():\n",
    "    answer = round(float(miles_input.get()) * 1.60934, 2)\n",
    "    answer_label.config(text = answer)\n",
    "\n",
    "text1 = Label(text='Miles')\n",
    "text1.grid(column=2, row =0)\n",
    "\n",
    "text2 = Label(text=\"is equal to\")\n",
    "text2.grid(column=0, row=1)\n",
    "\n",
    "answer_label = Label(text='0')\n",
    "answer_label.grid(column=1, row=1)\n",
    "\n",
    "text3 = Label(text=\"Km\")\n",
    "text3.grid(column=2, row=1)\n",
    "\n",
    "button = Button(text=\"Calculate\", command=m_to_km)\n",
    "button.grid(column=1, row=2)\n",
    "\n",
    "window.mainloop()"
   ]
  }
 ],
 "metadata": {
  "kernelspec": {
   "display_name": "Python 3.10.5 64-bit",
   "language": "python",
   "name": "python3"
  },
  "language_info": {
   "codemirror_mode": {
    "name": "ipython",
    "version": 3
   },
   "file_extension": ".py",
   "mimetype": "text/x-python",
   "name": "python",
   "nbconvert_exporter": "python",
   "pygments_lexer": "ipython3",
   "version": "3.10.5"
  },
  "orig_nbformat": 4,
  "vscode": {
   "interpreter": {
    "hash": "e8899eb02dfbc033aab5733bdae1bd213fa031d40331094008e8673d99ebab63"
   }
  }
 },
 "nbformat": 4,
 "nbformat_minor": 2
}
