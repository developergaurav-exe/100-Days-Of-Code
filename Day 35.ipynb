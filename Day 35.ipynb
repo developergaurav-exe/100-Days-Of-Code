{
 "cells": [
  {
   "cell_type": "markdown",
   "metadata": {},
   "source": [
    "### API Keys, Authentication, Environment Variables and sending SMS\n",
    "- Use twilio to send SMS"
   ]
  },
  {
   "cell_type": "markdown",
   "metadata": {},
   "source": [
    "#### Using Open Weather API to Get Hourly forcast"
   ]
  },
  {
   "cell_type": "code",
   "execution_count": 20,
   "metadata": {},
   "outputs": [],
   "source": [
    "import requests, api_keys\n",
    "\n",
    "MY_LAT = 28.704060 # My location: New Delhi, India\n",
    "MY_LON = 77.102493\n",
    "\n",
    "parameters = {\n",
    "    'lat': MY_LAT,\n",
    "    'lon': MY_LON,\n",
    "    'appid': api_keys.open_weather_API,\n",
    "    'exclude': \"current,minutely,daily\"\n",
    "}\n",
    "\n",
    "response = requests.get(\"https://api.openweathermap.org/data/2.5/onecall\", params=parameters)\n",
    "response.raise_for_status()\n",
    "\n",
    "data = response.json()"
   ]
  },
  {
   "cell_type": "code",
   "execution_count": 21,
   "metadata": {},
   "outputs": [
    {
     "data": {
      "text/plain": [
       "[802, 802, 802, 801, 801, 800, 800, 800, 800, 800, 800, 800, 800]"
      ]
     },
     "execution_count": 21,
     "metadata": {},
     "output_type": "execute_result"
    }
   ],
   "source": [
    "[data['hourly'][i]['weather'][0]['id'] for i in range(13)] # list of 12 weather ID's"
   ]
  },
  {
   "cell_type": "code",
   "execution_count": 22,
   "metadata": {},
   "outputs": [],
   "source": [
    "for i in range(len(data['hourly'])//2):\n",
    "    \n",
    "    if (data['hourly'][i]['weather'][0]['id']) < 700:\n",
    "        print('Bring an Umbrella')\n",
    "        break"
   ]
  },
  {
   "cell_type": "markdown",
   "metadata": {},
   "source": [
    "#### Sending SMS to Ourselves when It Rains! ☔"
   ]
  },
  {
   "cell_type": "code",
   "execution_count": 23,
   "metadata": {},
   "outputs": [],
   "source": [
    "import os, api_keys\n",
    "from twilio.rest import Client\n",
    "\n",
    "# account_sid = os.environ['TWILIO_ACCOUNT_SID'] # can be used after exporting environment variables through terminal\n",
    "# auth_token = os.environ['TWILIO_AUTH_TOKEN'] # Use hyper to export as visual studio wasn't working for me\n",
    "\n",
    "account_sid = api_keys.TWILIO_ACCOUNT_SID\n",
    "auth_token = api_keys.TWILIO_AUTH_TOKEN\n",
    "\n",
    "client = Client(account_sid, auth_token)\n",
    "\n",
    "for i in range(len(data['hourly'])//2): # weather data for next 12 hours\n",
    "    \n",
    "    if (data['hourly'][i]['weather'][0]['id']) < 700: # id< 700 means a rainy weather in OpenWeather API\n",
    "        \n",
    "        message = client.messages \\\n",
    "                        .create(\n",
    "                            body=\"Bring an Umbrella ☂️🌂 with you! It's going to rain today. - @developergaurav-exe\",\n",
    "                            from_= api_keys.MY_TWILIO_NUMBER, \n",
    "                            to= api_keys.MY_NUMBER\n",
    "                        )\n",
    "\n",
    "        print(message.status)\n",
    "\n",
    "        break # to stop from sending multiple messages"
   ]
  },
  {
   "cell_type": "markdown",
   "metadata": {},
   "source": [
    "##### Use PythonAnywhere platform to host this code to be able to send yourself SMS @ 7AM If it's going to rain.\n",
    "- https://www.pythonanywhere.com/"
   ]
  },
  {
   "cell_type": "markdown",
   "metadata": {},
   "source": [
    "### Environment Variables\n",
    "- for convinience\n",
    "- for security\n",
    "\n",
    "```env``` -->'''To check out all the environment variables'''\n",
    "\n",
    "##### <--- TO ADD ENVIRONMENT VARIABLES ---> \n",
    "```export <VAR_NAME>=<VAR_VALUE> ``` (Value Without Double Quotes)\n",
    "\n",
    "### Other API's to Explore\n",
    "- https://apilist.fun/"
   ]
  }
 ],
 "metadata": {
  "kernelspec": {
   "display_name": "Python 3.10.5 64-bit",
   "language": "python",
   "name": "python3"
  },
  "language_info": {
   "codemirror_mode": {
    "name": "ipython",
    "version": 3
   },
   "file_extension": ".py",
   "mimetype": "text/x-python",
   "name": "python",
   "nbconvert_exporter": "python",
   "pygments_lexer": "ipython3",
   "version": "3.10.5"
  },
  "orig_nbformat": 4,
  "vscode": {
   "interpreter": {
    "hash": "e8899eb02dfbc033aab5733bdae1bd213fa031d40331094008e8673d99ebab63"
   }
  }
 },
 "nbformat": 4,
 "nbformat_minor": 2
}
