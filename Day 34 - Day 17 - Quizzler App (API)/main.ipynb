{
 "cells": [
  {
   "cell_type": "markdown",
   "metadata": {},
   "source": [
    "#### Access Quizzler from this python notebook"
   ]
  },
  {
   "cell_type": "code",
   "execution_count": 1,
   "metadata": {},
   "outputs": [],
   "source": [
    "from question_model import Question\n",
    "from data import question_data\n",
    "from quiz_brain import QuizBrain\n",
    "from ui import QuizInterface\n",
    "\n",
    "question_bank = []\n",
    "for question in question_data:\n",
    "    question_text = question[\"question\"]\n",
    "    question_answer = question[\"correct_answer\"]\n",
    "    new_question = Question(question_text, question_answer)\n",
    "    question_bank.append(new_question)\n",
    "\n",
    "\n",
    "quiz = QuizBrain(question_bank)\n",
    "quiz_ui = QuizInterface(quiz)\n"
   ]
  }
 ],
 "metadata": {
  "kernelspec": {
   "display_name": "Python 3.10.5 64-bit",
   "language": "python",
   "name": "python3"
  },
  "language_info": {
   "codemirror_mode": {
    "name": "ipython",
    "version": 3
   },
   "file_extension": ".py",
   "mimetype": "text/x-python",
   "name": "python",
   "nbconvert_exporter": "python",
   "pygments_lexer": "ipython3",
   "version": "3.10.5"
  },
  "orig_nbformat": 4,
  "vscode": {
   "interpreter": {
    "hash": "e8899eb02dfbc033aab5733bdae1bd213fa031d40331094008e8673d99ebab63"
   }
  }
 },
 "nbformat": 4,
 "nbformat_minor": 2
}
