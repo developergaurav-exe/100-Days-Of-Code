{
 "cells": [
  {
   "cell_type": "markdown",
   "metadata": {},
   "source": [
    "### Conditional Statements, Logical Operators, Code Blocks and Scope"
   ]
  },
  {
   "cell_type": "markdown",
   "metadata": {},
   "source": [
    "#### Bmi calculator which gives message "
   ]
  },
  {
   "cell_type": "code",
   "execution_count": null,
   "metadata": {},
   "outputs": [],
   "source": [
    "# 🚨 Don't change the code below 👇\n",
    "height = float(input(\"enter your height in m: \"))\n",
    "weight = float(input(\"enter your weight in kg: \"))\n",
    "# 🚨 Don't change the code above 👆\n",
    "\n",
    "#Write your code below this line 👇\n",
    "bmi = round(weight/height**2)\n",
    "if bmi < 18.5:\n",
    "    print(f\"Your BMI is {bmi}, you are underweight.\")\n",
    "elif bmi < 25: # We don't need to check above 18.5 as, if above else statement fails then it will automatically check for this condition\n",
    "    print(f\"Your BMI is {bmi}, you have a normal weight.\")\n",
    "elif bmi < 30:     \n",
    "    print(f\"Your BMI is {bmi}, you are slightly overweight.\")\n",
    "elif bmi < 35:\n",
    "    print(f\"Your BMI is {bmi}, you are obese.\")\n",
    "else:\n",
    "    print(f\"Your BMI is {bmi}, you are clinically obese.\")"
   ]
  },
  {
   "cell_type": "markdown",
   "metadata": {},
   "source": [
    "### Leap year"
   ]
  },
  {
   "cell_type": "code",
   "execution_count": null,
   "metadata": {},
   "outputs": [],
   "source": [
    "# 🚨 Don't change the code below 👇\n",
    "year = int(input(\"Which year do you want to check? \"))\n",
    "# 🚨 Don't change the code above 👆\n",
    "\n",
    "#Write your code below this line 👇\n",
    "if year%4 == 0:\n",
    "    if year%400 == 0:\n",
    "        print(\"Leap year.\")\n",
    "    elif year%100 == 0:\n",
    "        print(\"Not leap year.\")\n",
    "    else:\n",
    "        print('Leap year.')\n",
    "else:\n",
    "    print(\"Not leap year.\")"
   ]
  },
  {
   "cell_type": "markdown",
   "metadata": {},
   "source": [
    "### Rollercoster Ride"
   ]
  },
  {
   "cell_type": "code",
   "execution_count": 8,
   "metadata": {},
   "outputs": [
    {
     "name": "stdout",
     "output_type": "stream",
     "text": [
      "Welcome to the RollerCoster!\n",
      "Can Ride\n",
      "Free Tickets for Adults suffering with Mid-Life crisis\n",
      "Your Total bill is $3\n"
     ]
    }
   ],
   "source": [
    "print('Welcome to the RollerCoster!')\n",
    "height = int(input('Enter Height in cms: '))\n",
    "amount = 0\n",
    "if height >= 120:\n",
    "    print(\"Can Ride\")\n",
    "    age = int(input('Enter age'))\n",
    "    if age < 12:\n",
    "        print('Child Tickets are $5')\n",
    "        amount = 5\n",
    "    elif age < 18:\n",
    "        print('Youth Tickets are $7')\n",
    "        amount = 7\n",
    "    elif age in range(45,56):\n",
    "        print(\"Free Tickets for Adults suffering with Mid-Life crisis\")\n",
    "        amount = 0\n",
    "    else:\n",
    "        print('Adult Tickets are $12')\n",
    "        amount = 12\n",
    "\n",
    "    \n",
    "    choice = input('Want photos? y/n')\n",
    "    if choice.lower() == 'y':\n",
    "        amount += 3\n",
    "    print(f'Your Total bill is ${amount}')\n",
    "\n",
    "else:\n",
    "    print(\"First Grow up!\")"
   ]
  },
  {
   "cell_type": "markdown",
   "metadata": {},
   "source": [
    "### Treasure island"
   ]
  },
  {
   "cell_type": "code",
   "execution_count": 22,
   "metadata": {},
   "outputs": [
    {
     "name": "stdout",
     "output_type": "stream",
     "text": [
      "\n",
      "*******************************************************************************\n",
      "          |                   |                  |                     |\n",
      " _________|________________.=\"\"_;=.______________|_____________________|_______\n",
      "|                   |  ,-\"_,=\"\"     `\"=.|                  |\n",
      "|___________________|__\"=._o`\"-._        `\"=.______________|___________________\n",
      "          |                `\"=._o`\"=._      _`\"=._                     |\n",
      " _________|_____________________:=._o \"=._.\"_.-=\"'\"=.__________________|_______\n",
      "|                   |    __.--\" , ; `\"=._o.\" ,-\"\"\"-._ \".   |\n",
      "|___________________|_._\"  ,. .` ` `` ,  `\"-._\"-._   \". '__|___________________\n",
      "          |           |o`\"=._` , \"` `; .\". ,  \"-._\"-._; ;              |\n",
      " _________|___________| ;`-.o`\"=._; .\" ` '`.\"\\` . \"-._ /_______________|_______\n",
      "|                   | |o;    `\"-.o`\"=._``  '` \" ,__.--o;   |\n",
      "|___________________|_| ;     (#) `-.o `\"=.`_.--\"_o.-; ;___|___________________\n",
      "____/______/______/___|o;._    \"      `\".o|o_.--\"    ;o;____/______/______/____\n",
      "/______/______/______/_\"=._o--._        ; | ;        ; ;/______/______/______/_\n",
      "____/______/______/______/__\"=._o--._   ;o|o;     _._;o;____/______/______/____\n",
      "/______/______/______/______/____\"=._o._; | ;_.--\"o.--\"_/______/______/______/_\n",
      "____/______/______/______/______/_____\"=.o|o_.--\"\"___/______/______/______/____\n",
      "/______/______/______/______/______/______/______/______/______/______/_____ /\n",
      "*******************************************************************************\n",
      "\n",
      "Welcome to Treasure Island.\n",
      "Your mission is to find the treasure.\n",
      "Phew! You were just about to get Captured by Pirate!\n",
      "Thank God! You escaped from the other side! Pirate was just getting close to You!\n",
      "Chosen Blue as if color of sky but you never knew it was the color you saw while you drowned! No treasure this time\n"
     ]
    }
   ],
   "source": [
    "print('''\n",
    "*******************************************************************************\n",
    "          |                   |                  |                     |\n",
    " _________|________________.=\"\"_;=.______________|_____________________|_______\n",
    "|                   |  ,-\"_,=\"\"     `\"=.|                  |\n",
    "|___________________|__\"=._o`\"-._        `\"=.______________|___________________\n",
    "          |                `\"=._o`\"=._      _`\"=._                     |\n",
    " _________|_____________________:=._o \"=._.\"_.-=\"'\"=.__________________|_______\n",
    "|                   |    __.--\" , ; `\"=._o.\" ,-\"\"\"-._ \".   |\n",
    "|___________________|_._\"  ,. .` ` `` ,  `\"-._\"-._   \". '__|___________________\n",
    "          |           |o`\"=._` , \"` `; .\". ,  \"-._\"-._; ;              |\n",
    " _________|___________| ;`-.o`\"=._; .\" ` '`.\"\\` . \"-._ /_______________|_______\n",
    "|                   | |o;    `\"-.o`\"=._``  '` \" ,__.--o;   |\n",
    "|___________________|_| ;     (#) `-.o `\"=.`_.--\"_o.-; ;___|___________________\n",
    "____/______/______/___|o;._    \"      `\".o|o_.--\"    ;o;____/______/______/____\n",
    "/______/______/______/_\"=._o--._        ; | ;        ; ;/______/______/______/_\n",
    "____/______/______/______/__\"=._o--._   ;o|o;     _._;o;____/______/______/____\n",
    "/______/______/______/______/____\"=._o._; | ;_.--\"o.--\"_/______/______/______/_\n",
    "____/______/______/______/______/_____\"=.o|o_.--\"\"___/______/______/______/____\n",
    "/______/______/______/______/______/______/______/______/______/______/_____ /\n",
    "*******************************************************************************\n",
    "''')\n",
    "print(\"Welcome to Treasure Island.\")\n",
    "print(\"Your mission is to find the treasure.\")\n",
    "choice = input('Where do you want to go? Left or Right? ')\n",
    "if choice.lower() == 'right':\n",
    "    print(\"The pirate whom you backstabbed captured you! You are grilled!\")\n",
    "elif choice.lower() == 'left':\n",
    "    print('Phew! You were just about to get Captured by Pirate!')\n",
    "    choice = input('You now see a lake! Act fast! Swim or Wait?')\n",
    "    if choice.lower() == 'swim':\n",
    "        print('Thank God! You escaped from the other side! Pirate was just getting close to You!')\n",
    "        choice = input('You observe doors in the trunks of Random Trees! Choose a tree: Red, Blue or Yellow ')\n",
    "        if choice.lower == 'yellow':\n",
    "            print('As the color yellow looks similar to Gold! You shall be granted a Treasure full of Gold! You Win :D')\n",
    "        elif choice.lower() == 'red':\n",
    "            print('Red as to color of Blood! You have chosen the color of Death! Better luck next time.')\n",
    "        else:\n",
    "            print('Chosen Blue as if color of sky but you never knew it was the color you saw while you drowned! No treasure this time.')\n",
    "    else:\n",
    "        print(\"Waiting didn't work! Pirate captured you.\")\n",
    "else:\n",
    "    print(\"You had an option, but you chose none. Typing BS wouldn't get you treasure.\")\n"
   ]
  }
 ],
 "metadata": {
  "kernelspec": {
   "display_name": "Python 3.10.5 64-bit",
   "language": "python",
   "name": "python3"
  },
  "language_info": {
   "codemirror_mode": {
    "name": "ipython",
    "version": 3
   },
   "file_extension": ".py",
   "mimetype": "text/x-python",
   "name": "python",
   "nbconvert_exporter": "python",
   "pygments_lexer": "ipython3",
   "version": "3.10.5"
  },
  "orig_nbformat": 4,
  "vscode": {
   "interpreter": {
    "hash": "e8899eb02dfbc033aab5733bdae1bd213fa031d40331094008e8673d99ebab63"
   }
  }
 },
 "nbformat": 4,
 "nbformat_minor": 2
}
