{
 "cells": [
  {
   "cell_type": "markdown",
   "metadata": {},
   "source": [
    "### Application Programming Interfaces\n",
    "- is a set of commands, functions, protocols and objects that programmers can use to create software or interact with an external system\n",
    "- [Your program] Request <-(API)-> Response [External System]"
   ]
  },
  {
   "cell_type": "markdown",
   "metadata": {},
   "source": [
    "#### API Endpoint: From where to obtain the data\n",
    "#### API Request: Trying to withdraw some data\n",
    "#### \n"
   ]
  },
  {
   "cell_type": "markdown",
   "metadata": {},
   "source": [
    "#### Response Codes\n",
    "- 1XX : Hold on\n",
    "- 2XX: Here You Go (OK)\n",
    "- 3XX: Go Away (No Permission)\n",
    "- 4XX: You screwed up (User)\n",
    "- 5XX: I Screwed Up (Server)"
   ]
  },
  {
   "cell_type": "code",
   "execution_count": 8,
   "metadata": {},
   "outputs": [
    {
     "name": "stdout",
     "output_type": "stream",
     "text": [
      "-160.2860\n"
     ]
    }
   ],
   "source": [
    "import requests\n",
    "\n",
    "# This will return a response code\n",
    "response = requests.get(url='http://api.open-notify.org/iss-now.json') # API Request\n",
    "response.raise_for_status()\n",
    "\n",
    "longitude = response.json()[\"iss_position\"][\"longitude\"] # Data retrieved\n",
    "print(longitude)\n"
   ]
  },
  {
   "cell_type": "markdown",
   "metadata": {},
   "source": [
    "#### Use this website to find out Current position: https://www.gps-coordinates.net/"
   ]
  },
  {
   "cell_type": "markdown",
   "metadata": {},
   "source": [
    "#### API Parameters: To pass in specific queries to get specific API Response\n",
    "- Endpoint?ParamName=Value&...\n",
    "#### Sunrise and Sunset Time"
   ]
  },
  {
   "cell_type": "code",
   "execution_count": 20,
   "metadata": {},
   "outputs": [
    {
     "name": "stdout",
     "output_type": "stream",
     "text": [
      "00 12 20\n"
     ]
    }
   ],
   "source": [
    "from datetime import datetime\n",
    "import requests\n",
    "\n",
    "response = requests.get(url=\"http://api.open-notify.org/iss-now.json\")\n",
    "response.raise_for_status()\n",
    "data = response.json()\n",
    "\n",
    "iss_latitude = float(data[\"iss_position\"][\"latitude\"])\n",
    "iss_longitude = float(data[\"iss_position\"][\"longitude\"])\n",
    "\n",
    "MY_LAT = 28.6138954\n",
    "MY_LONG = 77.2090057\n",
    "\n",
    "parameters = {\n",
    "    'lat': MY_LAT,\n",
    "    'lng': MY_LONG,\n",
    "    'formatted': 0\n",
    "}\n",
    "\n",
    "response = requests.get(\"https://api.sunrise-sunset.org/json\", params=parameters)\n",
    "response.raise_for_status()\n",
    "data = response.json()\n",
    "\n",
    "sunrise = int(data['results']['sunrise'].split(\"T\")[1].split(\":\")[0]) # only getting the sunset hour \n",
    "sunset = int(data['results']['sunset'].split(\"T\")[1].split(\":\")[0]) # only getting the sunset hour\n",
    "\n",
    "time_now = datetime.now()\n"
   ]
  },
  {
   "cell_type": "markdown",
   "metadata": {},
   "source": [
    "#### ISS Overhead Notifier Project"
   ]
  },
  {
   "cell_type": "code",
   "execution_count": null,
   "metadata": {},
   "outputs": [],
   "source": [
    "import smtplib\n",
    "import time\n",
    "import requests\n",
    "from datetime import datetime\n",
    "\n",
    "MY_LAT = 28.6138954 # Your latitude\n",
    "MY_LONG = 77.2090057 # Your longitude\n",
    "\n",
    "def is_iss_overhead():\n",
    "    response = requests.get(url=\"http://api.open-notify.org/iss-now.json\")\n",
    "    response.raise_for_status()\n",
    "    data = response.json()\n",
    "\n",
    "    iss_latitude = float(data[\"iss_position\"][\"latitude\"])\n",
    "    iss_longitude = float(data[\"iss_position\"][\"longitude\"])\n",
    "\n",
    "    #Your position is within +5 or -5 degrees of the ISS position.\n",
    "    if MY_LAT-5 <= iss_latitude <= MY_LAT+5 and MY_LONG-5 <= iss_longitude <= MY_LONG+5:\n",
    "        return True\n",
    "\n",
    "def is_night():\n",
    "    parameters = {\n",
    "        \"lat\": MY_LAT,\n",
    "        \"lng\": MY_LONG,\n",
    "        \"formatted\": 0,\n",
    "    }\n",
    "\n",
    "    response = requests.get(\"https://api.sunrise-sunset.org/json\", params=parameters)\n",
    "    response.raise_for_status()\n",
    "    data = response.json()\n",
    "    sunrise = int(data[\"results\"][\"sunrise\"].split(\"T\")[1].split(\":\")[0])\n",
    "    sunset = int(data[\"results\"][\"sunset\"].split(\"T\")[1].split(\":\")[0])\n",
    "\n",
    "    time_now = datetime.now().hour()\n",
    "\n",
    "    if time_now >= sunset or time_now <= sunrise:\n",
    "        return True\n",
    "\n",
    "while True:\n",
    "    time.sleep(60)\n",
    "    if is_iss_overhead and is_night():\n",
    "        connection = smtplib.SMTP(\"smtp.gmail.com\")\n",
    "        connection.starttls()\n",
    "        connection.login('myemail@gmail.com', 'password') # This is not working in my case anyways\n",
    "        connection.sendmail(\n",
    "            from_addr='myemail@gmail.com',\n",
    "            to_addrs='myemail@gmail.com'\n",
    "            msg=\"Subject:Look Up👆\\n\\nThe ISS is above you in the sky.\"\n",
    "        )"
   ]
  }
 ],
 "metadata": {
  "kernelspec": {
   "display_name": "Python 3.10.5 64-bit",
   "language": "python",
   "name": "python3"
  },
  "language_info": {
   "codemirror_mode": {
    "name": "ipython",
    "version": 3
   },
   "file_extension": ".py",
   "mimetype": "text/x-python",
   "name": "python",
   "nbconvert_exporter": "python",
   "pygments_lexer": "ipython3",
   "version": "3.10.5"
  },
  "orig_nbformat": 4,
  "vscode": {
   "interpreter": {
    "hash": "e8899eb02dfbc033aab5733bdae1bd213fa031d40331094008e8673d99ebab63"
   }
  }
 },
 "nbformat": 4,
 "nbformat_minor": 2
}
