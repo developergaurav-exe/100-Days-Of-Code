{
 "cells": [
  {
   "cell_type": "markdown",
   "metadata": {},
   "source": [
    "### Exercise Tacking with Python and Google Sheets"
   ]
  },
  {
   "cell_type": "code",
   "execution_count": 5,
   "metadata": {},
   "outputs": [],
   "source": [
    "import requests, api_keys\n",
    "\n",
    "GENDER = 'male'\n",
    "WEIGHT_KG = api_keys.my_weight_kg\n",
    "HEIGHT_CM = api_keys.my_height_cm\n",
    "AGE = '20'\n",
    "\n",
    "excercise_endpoint = 'https://trackapi.nutritionix.com/v2/natural/exercise'\n",
    "\n",
    "headers = {\n",
    "    \"x-app-id\": api_keys.NUTRITIONIX_APP_ID,\n",
    "    \"x-app-key\": api_keys.NUTRITIONIX_KEY_ID,\n",
    "    \"Authorization\": api_keys.SHEETY_BEARER_TOKEN\n",
    "}\n",
    "\n",
    "exercise_parameters = {\n",
    "    \"query\": input('What exercise did you performed today? '), \n",
    "    \"gender\": GENDER,\n",
    "    \"weight_kg\": WEIGHT_KG,\n",
    "    \"height_cm\": HEIGHT_CM,\n",
    "    \"age\": AGE\n",
    "}\n",
    "\n",
    "response = requests.post(excercise_endpoint, json=exercise_parameters, headers=headers)\n",
    "data = response.json()"
   ]
  },
  {
   "cell_type": "markdown",
   "metadata": {},
   "source": [
    "#### GET and POST request in Sheety API"
   ]
  },
  {
   "cell_type": "markdown",
   "metadata": {},
   "source": [
    "##### GET request in Sheety"
   ]
  },
  {
   "cell_type": "code",
   "execution_count": 3,
   "metadata": {},
   "outputs": [
    {
     "data": {
      "text/plain": [
       "{'sheet1': [{'date': '21/07/2020',\n",
       "   'time': '15:00:00',\n",
       "   'exercise': 'Running',\n",
       "   'duration': 22,\n",
       "   'calories': 130,\n",
       "   'id': 2}]}"
      ]
     },
     "execution_count": 3,
     "metadata": {},
     "output_type": "execute_result"
    }
   ],
   "source": [
    "import api_keys, requests\n",
    "google_workbook = 'workoutNutritionixApi'\n",
    "google_worksheet = 'sheet1'\n",
    "\n",
    "sheety_endpoint = f'https://api.sheety.co/{api_keys.SHEETY_API_KEY}/{google_workbook}/{google_worksheet}'\n",
    "\n",
    "response = requests.get(sheety_endpoint)\n",
    "response.json() # as only one row present"
   ]
  },
  {
   "cell_type": "markdown",
   "metadata": {},
   "source": [
    "##### POST request in Sheety"
   ]
  },
  {
   "cell_type": "code",
   "execution_count": 24,
   "metadata": {},
   "outputs": [
    {
     "name": "stdout",
     "output_type": "stream",
     "text": [
      "{\n",
      "  \"sheet1\": {\n",
      "    \"date\": \"25/09/2022\",\n",
      "    \"time\": \"14:11:59\",\n",
      "    \"exercise\": \"Running\",\n",
      "    \"duration\": 31.08,\n",
      "    \"calories\": 304.58,\n",
      "    \"id\": 5\n",
      "  }\n",
      "}\n",
      "{\n",
      "  \"sheet1\": {\n",
      "    \"date\": \"25/09/2022\",\n",
      "    \"time\": \"14:11:59\",\n",
      "    \"exercise\": \"Road Cycling\",\n",
      "    \"duration\": 28,\n",
      "    \"calories\": 280,\n",
      "    \"id\": 6\n",
      "  }\n",
      "}\n"
     ]
    }
   ],
   "source": [
    "from datetime import datetime\n",
    "\n",
    "# for i in len(data): MY APPROACH BUT IT WAS BAD + WRONG!\n",
    "\n",
    "#     row = {\n",
    "#         google_worksheet: [ \n",
    "#         {\n",
    "#             'date': datetime.now().strftime('%d-%m-%Y'),\n",
    "#             'time': datetime.now().strftime(\"%X\"),\n",
    "#             'exercise': data['exercises'][i]['name'].title(),\n",
    "#             'duration': data['exercises'][i]['duration_min'],\n",
    "#             'calories': data['exercises'][i]['nf_calories'],\n",
    "#         }    \n",
    "#     ]\n",
    "#     }\n",
    "        \n",
    "bearer_headers = { # bearer token to improve the security\n",
    "    \"Authorization\": api_keys.SHEETY_BEARER_TOKEN\n",
    "}\n",
    "\n",
    "today_date = datetime.now().strftime(\"%d/%m/%Y\")\n",
    "now_time = datetime.now().strftime(\"%X\")\n",
    "\n",
    "for exercise in data[\"exercises\"]:\n",
    "    sheet_inputs = {\n",
    "\n",
    "        google_worksheet: { # google_worksheet is sheet1\n",
    "            \"date\": today_date,\n",
    "            \"time\": now_time,\n",
    "            \"exercise\": exercise[\"name\"].title(),\n",
    "            \"duration\": exercise[\"duration_min\"],\n",
    "            \"calories\": exercise[\"nf_calories\"]\n",
    "        }\n",
    "    }\n",
    "\n",
    "    sheet_response = requests.post(sheety_endpoint, json=sheet_inputs, headers= bearer_headers)\n",
    "    print(sheet_response.text)"
   ]
  },
  {
   "cell_type": "markdown",
   "metadata": {},
   "source": [
    "#### Environment Variables in Repl.it\n",
    "In order to be able to post our workout data while we're out and about, it would be easier if we can access the console and run the code in Repl.it\n",
    "\n",
    "However, because Repl.it is open source, we don't want other people to see our API keys and secrets.\n",
    "\n",
    "That's why Use the Repl.it documentation to work out how to create a .env file in Repl.it and store your Environment Variables in there.\n",
    "\n",
    "THE END"
   ]
  }
 ],
 "metadata": {
  "kernelspec": {
   "display_name": "Python 3.10.5 64-bit",
   "language": "python",
   "name": "python3"
  },
  "language_info": {
   "codemirror_mode": {
    "name": "ipython",
    "version": 3
   },
   "file_extension": ".py",
   "mimetype": "text/x-python",
   "name": "python",
   "nbconvert_exporter": "python",
   "pygments_lexer": "ipython3",
   "version": "3.10.5"
  },
  "orig_nbformat": 4,
  "vscode": {
   "interpreter": {
    "hash": "e8899eb02dfbc033aab5733bdae1bd213fa031d40331094008e8673d99ebab63"
   }
  }
 },
 "nbformat": 4,
 "nbformat_minor": 2
}
