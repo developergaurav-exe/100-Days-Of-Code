{
 "cells": [
  {
   "cell_type": "markdown",
   "metadata": {},
   "source": [
    "### Debugging"
   ]
  },
  {
   "cell_type": "code",
   "execution_count": null,
   "metadata": {},
   "outputs": [],
   "source": [
    "'''\n",
    "TIPS BY ANGELA YU\n",
    "# 1. Describe the problem\n",
    "# 2. Reproduce the bug\n",
    "# 3. Play Computer\n",
    "# 4. Fix the Errors \n",
    "# 5. Print is your Friend\n",
    "# 6. Use a Debugger\n",
    "\n",
    "SOME FINAL TIPS\n",
    "# 1. Take a break\n",
    "# 2. Ask a Friend\n",
    "# 3. Run the Program often\n",
    "# 4. Ask StackOverflow\n",
    "\n",
    "REMEMBER\n",
    "\"EVERYONE GETS BUGS.\"\n",
    "'''"
   ]
  },
  {
   "cell_type": "markdown",
   "metadata": {},
   "source": [
    "##### Had an easy day fixing Bugs!"
   ]
  }
 ],
 "metadata": {
  "language_info": {
   "name": "python"
  },
  "orig_nbformat": 4
 },
 "nbformat": 4,
 "nbformat_minor": 2
}
