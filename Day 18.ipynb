{
 "cells": [
  {
   "cell_type": "markdown",
   "metadata": {},
   "source": [
    "### Turtle Graphics, Tuples and Importing Modules"
   ]
  },
  {
   "cell_type": "code",
   "execution_count": 1,
   "metadata": {},
   "outputs": [],
   "source": [
    "from turtle import Turtle, Screen # my turtle graphics is kinda glitchy\n",
    "t = Turtle()\n",
    "t.shape(\"turtle\")\n",
    "t.color(\"orchid\")\n",
    "# tk color scheme based on RGB\n",
    "\n",
    "def square(t:Turtle):\n",
    "    '''Takes a Turtle class object as parameter and draws a square'''\n",
    "    for i in range(4):\n",
    "        t.forward(100)\n",
    "        t.right(90)\n",
    "\n",
    "square(t)\n",
    "\n",
    "screen = Screen()\n",
    "screen.exitonclick()"
   ]
  },
  {
   "cell_type": "code",
   "execution_count": 11,
   "metadata": {},
   "outputs": [
    {
     "name": "stdout",
     "output_type": "stream",
     "text": [
      "WhirlGirl\n"
     ]
    }
   ],
   "source": [
    "# from turtle import *\n",
    "'''Imports everything but is a bad practice'''\n",
    "\n",
    "import heroes # a random hero name package\n",
    "print(heroes.gen())"
   ]
  },
  {
   "cell_type": "markdown",
   "metadata": {},
   "source": [
    "#### Draw a dashed line "
   ]
  },
  {
   "cell_type": "code",
   "execution_count": 1,
   "metadata": {},
   "outputs": [],
   "source": [
    "from turtle import Turtle, Screen\n",
    "t = Turtle()\n",
    "\n",
    "def dashed_line(t:Turtle):\n",
    "    for i in range(10):\n",
    "        t.pendown()\n",
    "        t.forward(10)\n",
    "        t.penup()\n",
    "        t.forward(10)\n",
    "\n",
    "dashed_line(t)\n",
    "\n",
    "screen = Screen()\n",
    "screen.exitonclick()"
   ]
  },
  {
   "cell_type": "markdown",
   "metadata": {},
   "source": [
    "#### Drawing different shapes"
   ]
  },
  {
   "cell_type": "code",
   "execution_count": 1,
   "metadata": {},
   "outputs": [],
   "source": [
    "from turtle import Turtle, Screen\n",
    "import random\n",
    "t = Turtle()\n",
    "\n",
    "colors = [\"dark sea green\", \"blue\", \"red\", \"deep pink\", \"indigo\", \"crimson\", ]\n",
    "\n",
    "# def shapes(t:Turtle):\n",
    "'''This was my solution, It worked but was not efficient'''\n",
    "#     for i in range(4,11):\n",
    "#         angle = 360/i\n",
    "#         for j in range(4,15):\n",
    "#             t.forward(100)\n",
    "#             t.right(angle)\n",
    "\n",
    "def shape(num_sides, t:Turtle): # Angela's Solution\n",
    "    angle = 360/num_sides\n",
    "    \n",
    "    t.pencolor(random.choice(colors))\n",
    "    for _ in range(num_sides):\n",
    "        t.right(angle)\n",
    "        t.forward(100)\n",
    "        \n",
    "for i in range(3,11):\n",
    "    shape(i, t)\n",
    "\n",
    "screen = Screen()\n",
    "screen.exitonclick()"
   ]
  },
  {
   "cell_type": "markdown",
   "metadata": {},
   "source": [
    "#### Draw a Random Walk"
   ]
  },
  {
   "cell_type": "code",
   "execution_count": 1,
   "metadata": {},
   "outputs": [],
   "source": [
    "from turtle import Turtle, Screen\n",
    "import random\n",
    "import turtle\n",
    "\n",
    "t = Turtle()\n",
    "\n",
    "turtle.colormode(255)\n",
    "def random_color():\n",
    "    r = random.randint(0,255)\n",
    "    g = random.randint(0,255)\n",
    "    b = random.randint(0,255)\n",
    "    return (r,g,b)\n",
    "\n",
    "# colors = [\"CornflowerBlue\", \"DarkOrchid\", \"IndianRed\", \"DeepSkyBlue\", \"LightSeaGreen\", \"wheat\", \"SlateGray\", \"SeaGreen\"]\n",
    "\n",
    "t.pensize(10)\n",
    "angles = [0,90,180,270]\n",
    "\n",
    "def random_walk(t:Turtle):\n",
    "    t.color(random_color())\n",
    "    t.right(random.choice(angles))\n",
    "    t.forward(30)\n",
    "\n",
    "t.speed(10)\n",
    "for i in range(200):\n",
    "    random_walk(t)\n",
    "\n",
    "screen = Screen()\n",
    "screen.exitonclick()"
   ]
  },
  {
   "cell_type": "markdown",
   "metadata": {},
   "source": [
    "#### Draw a Spirograph"
   ]
  },
  {
   "cell_type": "code",
   "execution_count": 1,
   "metadata": {},
   "outputs": [],
   "source": [
    "from turtle import Turtle, Screen\n",
    "import turtle, random\n",
    "\n",
    "t = Turtle()\n",
    "\n",
    "turtle.colormode(255)\n",
    "\n",
    "def random_color():\n",
    "    r = random.randint(0,255)\n",
    "    g = random.randint(0,255)\n",
    "    b = random.randint(0,255)\n",
    "    return (r,g,b)\n",
    "\n",
    "def spirograph(t:Turtle, size_of_gap):\n",
    "    for _ in range(int(360/size_of_gap)):\n",
    "        t.color(random_color())\n",
    "        t.circle(100)\n",
    "        t.right(5) # can use setheading() method here too\n",
    "    \n",
    "t.speed(0)\n",
    "spirograph(t,5)\n",
    "\n",
    "screen = Screen()\n",
    "screen.exitonclick()"
   ]
  },
  {
   "cell_type": "markdown",
   "metadata": {},
   "source": [
    "#### Hirst Painting"
   ]
  },
  {
   "cell_type": "code",
   "execution_count": 1,
   "metadata": {},
   "outputs": [],
   "source": [
    "from turtle import Turtle, Screen, penup\n",
    "import turtle, random, colorgram\n",
    "\n",
    "# colors = colorgram.extract(\"Prof Pic.jpg\",20)\n",
    "'''To avoid doing computations multiple times'''\n",
    "# pallete = [(colors[i].rgb.r, colors[i].rgb.g, colors[i].rgb.b) for i in range(len(colors))]\n",
    "\n",
    "pallete = [(236, 35, 108), (145, 28, 64), (239, 75, 35), (6, 148, 93), (232, 238, 234), (231, 168, 40), (184, 158, 46), (44, 191, 233), (27, 127, 195), (126, 193, 74), (253, 223, 0), (85, 28, 93), (173, 36, 97), (246, 219, 44), (44, 172, 112), (215, 130, 165), (215, 56, 27)]\n",
    "\n",
    "turtle.colormode(255)\n",
    "t = Turtle()\n",
    "t.pensize(20)\n",
    "\n",
    "def painting(t:Turtle): # could have used dot function to simplify task\n",
    "    x,y = -400, -200\n",
    "    for i in range(10):\n",
    "        t.penup()\n",
    "        t.goto(x, y)\n",
    "        for j in range(10):\n",
    "            t.pendown()  \n",
    "            t.pencolor(random.choice(pallete))\n",
    "            t.forward(0)\n",
    "            t.penup()\n",
    "            t.forward(50)\n",
    "        y += 50\n",
    "    \n",
    "t.hideturtle()\n",
    "t.speed(0)\n",
    "painting(t)\n",
    "\n",
    "screen = Screen()\n",
    "screen.exitonclick()"
   ]
  }
 ],
 "metadata": {
  "kernelspec": {
   "display_name": "Python 3.10.5 64-bit",
   "language": "python",
   "name": "python3"
  },
  "language_info": {
   "codemirror_mode": {
    "name": "ipython",
    "version": 3
   },
   "file_extension": ".py",
   "mimetype": "text/x-python",
   "name": "python",
   "nbconvert_exporter": "python",
   "pygments_lexer": "ipython3",
   "version": "3.10.5"
  },
  "orig_nbformat": 4,
  "vscode": {
   "interpreter": {
    "hash": "e8899eb02dfbc033aab5733bdae1bd213fa031d40331094008e8673d99ebab63"
   }
  }
 },
 "nbformat": 4,
 "nbformat_minor": 2
}
