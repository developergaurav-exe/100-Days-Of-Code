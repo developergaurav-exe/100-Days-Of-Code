{
 "cells": [
  {
   "cell_type": "markdown",
   "metadata": {},
   "source": [
    "### Building the famous Snake Game!"
   ]
  },
  {
   "cell_type": "markdown",
   "metadata": {},
   "source": [
    "##### Day 20"
   ]
  },
  {
   "cell_type": "code",
   "execution_count": 1,
   "metadata": {},
   "outputs": [],
   "source": [
    "from turtle import Screen\n",
    "import time\n",
    "from snake import Snake # Snake class created having all the required functions\n",
    "from food import Food\n",
    "from scoreboard import Scoreboard\n",
    "\n",
    "screen = Screen()\n",
    "screen.setup(width=600, height=600)\n",
    "screen.bgcolor(\"black\")\n",
    "screen.title(\"My Snake Game\") \n",
    "screen.tracer(0)\n",
    "\n",
    "\"\"\"Create a Snake Body\"\"\"\n",
    "snake = Snake()\n",
    "food = Food()\n",
    "board = Scoreboard()\n",
    "\n",
    "screen.listen()\n",
    "screen.onkey(fun=snake.up, key=\"Up\")\n",
    "screen.onkey(fun=snake.down, key=\"Down\")\n",
    "screen.onkey(fun=snake.left, key=\"Left\")\n",
    "screen.onkey(fun=snake.right, key=\"Right\")\n",
    "\n",
    "\"\"\"Move the Snake\"\"\"\n",
    "on = True\n",
    "while on:\n",
    "    screen.update() # the two important functions to understand here update and sleep\n",
    "    time.sleep(0.1) \n",
    "    snake.move() # The snake keeps on moving\n",
    "\n",
    "    # Detect collision with Food\n",
    "    if snake.head.distance(food) < 15:\n",
    "        food.refresh()\n",
    "        snake.extend()\n",
    "        board.increase_score()\n",
    "\n",
    "    # Detect collision with wall\n",
    "    if snake.head.xcor() > 300 or snake.head.xcor() < -300 or snake.head.ycor() < -300 or snake.head.ycor() > 300:\n",
    "        board.game_over()\n",
    "        on = False\n",
    "\n",
    "    #Detect collision with tail\n",
    "    for segment in snake.segments[1::]: # slicing to check if any segment of the snake touches head\n",
    "        if snake.head.distance(segment) < 10:\n",
    "            on = False\n",
    "            board.game_over()\n",
    "\n",
    "screen.exitonclick()"
   ]
  },
  {
   "cell_type": "markdown",
   "metadata": {},
   "source": [
    "##### Day 21"
   ]
  },
  {
   "cell_type": "markdown",
   "metadata": {},
   "source": [
    "##### Inheritance"
   ]
  },
  {
   "cell_type": "code",
   "execution_count": 2,
   "metadata": {},
   "outputs": [
    {
     "name": "stdout",
     "output_type": "stream",
     "text": [
      "Inhale, Exhale!\n",
      "inside water!\n",
      "moving in water\n",
      "2\n"
     ]
    }
   ],
   "source": [
    "class Animal:\n",
    "    def __init__(self) -> None:\n",
    "        self.eyes = 2\n",
    "\n",
    "    def breathe(self):\n",
    "        print(\"Inhale, Exhale!\")\n",
    "\n",
    "class Fish(Animal):\n",
    "    def __init__(self) -> None:\n",
    "        super().__init__() # super function to inherit all the functions parent class can do\n",
    "\n",
    "    def breathe(self):\n",
    "        super().breathe()\n",
    "        print(\"inside water!\") # extending the functionality of the breathe() method.\n",
    "\n",
    "    def swim(self):\n",
    "        print(\"moving in water\")\n",
    "\n",
    "nemo = Fish()\n",
    "nemo.breathe()\n",
    "nemo.swim()\n",
    "print(nemo.eyes)"
   ]
  }
 ],
 "metadata": {
  "kernelspec": {
   "display_name": "Python 3.10.5 64-bit",
   "language": "python",
   "name": "python3"
  },
  "language_info": {
   "codemirror_mode": {
    "name": "ipython",
    "version": 3
   },
   "file_extension": ".py",
   "mimetype": "text/x-python",
   "name": "python",
   "nbconvert_exporter": "python",
   "pygments_lexer": "ipython3",
   "version": "3.10.5"
  },
  "orig_nbformat": 4,
  "vscode": {
   "interpreter": {
    "hash": "e8899eb02dfbc033aab5733bdae1bd213fa031d40331094008e8673d99ebab63"
   }
  }
 },
 "nbformat": 4,
 "nbformat_minor": 2
}
