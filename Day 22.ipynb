{
 "cells": [
  {
   "cell_type": "markdown",
   "metadata": {},
   "source": [
    "### Ping Pong Game"
   ]
  },
  {
   "cell_type": "code",
   "execution_count": 1,
   "metadata": {},
   "outputs": [],
   "source": [
    "from turtle import Screen\n",
    "from paddle import Paddle\n",
    "from ball import Ball\n",
    "import time\n",
    "from scoreboard_pong import Scoreboard\n",
    "\n",
    "screen = Screen()\n",
    "screen.title(\"Ping Pong\")\n",
    "screen.setup(width=800, height=600)\n",
    "screen.bgcolor(\"black\")\n",
    "screen.tracer(0) # 0 to turn off the animation\n",
    "\n",
    "r_paddle = Paddle(350,0)\n",
    "l_paddle = Paddle(-350,0) # there are no limiters for the paddles right now\n",
    "ball = Ball()\n",
    "board = Scoreboard()\n",
    "\n",
    "screen.listen()\n",
    "screen.onkeypress(fun= r_paddle.up, key='Up')\n",
    "screen.onkeypress(fun= r_paddle.down, key='Down')\n",
    "screen.onkeypress(fun= l_paddle.up, key='w')\n",
    "screen.onkeypress(fun= l_paddle.down, key='s')\n",
    "\n",
    "on = True\n",
    "while on:\n",
    "    time.sleep(ball.ball_speed) # speed gets increased everytime ball hits any paddle\n",
    "    screen.update()\n",
    "    ball.move()\n",
    "\n",
    "    # Detect collision with the ball \n",
    "    if ball.ycor() > 280 or ball.xcor() < -280:\n",
    "        ball.bounce_y()\n",
    "\n",
    "    # Detect collision with the paddle\n",
    "    if ball.distance(r_paddle) < 50 and ball.xcor() > 320 or ball.distance(l_paddle) < 50 and ball.xcor() < -320 :\n",
    "        ball.bounce_x()  \n",
    "\n",
    "    # Detect if r_paddle misses ball\n",
    "    if ball.xcor() > 380:\n",
    "        ball.reset_pos() \n",
    "        board.l_point()\n",
    "\n",
    "    # Detect if r_paddle misses ball\n",
    "    if ball.xcor() < -380:\n",
    "        ball.reset_pos() \n",
    "        board.r_point()\n",
    "\n",
    "screen.exitonclick()"
   ]
  }
 ],
 "metadata": {
  "kernelspec": {
   "display_name": "Python 3.10.5 64-bit",
   "language": "python",
   "name": "python3"
  },
  "language_info": {
   "codemirror_mode": {
    "name": "ipython",
    "version": 3
   },
   "file_extension": ".py",
   "mimetype": "text/x-python",
   "name": "python",
   "nbconvert_exporter": "python",
   "pygments_lexer": "ipython3",
   "version": "3.10.5"
  },
  "orig_nbformat": 4,
  "vscode": {
   "interpreter": {
    "hash": "e8899eb02dfbc033aab5733bdae1bd213fa031d40331094008e8673d99ebab63"
   }
  }
 },
 "nbformat": 4,
 "nbformat_minor": 2
}
