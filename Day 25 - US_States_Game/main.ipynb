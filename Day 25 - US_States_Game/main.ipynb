{
 "cells": [
  {
   "cell_type": "code",
   "execution_count": 1,
   "metadata": {},
   "outputs": [],
   "source": [
    "from turtle import Turtle, Screen\n",
    "import turtle,pandas\n",
    "\n",
    "screen = Screen() \n",
    "screen.title(\"U. S. States Game\") \n",
    "\n",
    "screen.addshape(\"blank_states_img.gif\") \n",
    "turtle.shape('blank_states_img.gif') \n",
    "\n",
    "df = pandas.read_csv(\"50_states.csv\")\n",
    "all_states = df.state.to_list()\n",
    "guessed_states = []\n",
    "while len(guessed_states) < 50:\n",
    "\n",
    "    answer_state = screen.textinput(title= f\"Guess the States: {len(guessed_states)}/50\", \n",
    "                                                prompt=\"What's the State Names?\").title()\n",
    "    # if answer_state in csv file\n",
    "    # if they right\n",
    "    if answer_state in all_states:\n",
    "        guessed_states.append(answer_state)\n",
    "        t = Turtle()\n",
    "        t.hideturtle()\n",
    "        t.penup()\n",
    "        state_data = df[df.state == answer_state]\n",
    "        t.goto(int(state_data.x), int(state_data.y))\n",
    "        t.write(state_data.state.item()) # or answer_data\n",
    "\n",
    "    if answer_state == 'Exit':\n",
    "        missing_states = []\n",
    "        for state in all_states:\n",
    "            if state not in guessed_states:\n",
    "                missing_states.append(state)\n",
    "\n",
    "        df = pandas.DataFrame(missing_states)\n",
    "        df.to_csv(\"saved_states.csv\")        \n",
    "        break\n",
    "\n",
    "# def get_mouse_click_coor(x, y):  # To get coordinates wherever I click \n",
    "#     print(x, y) \n",
    "\n",
    "# turtle.onscreenclick(get_mouse_click_coor) # alternative to exitonclick\n",
    "\n",
    "screen.exitonclick() \n"
   ]
  }
 ],
 "metadata": {
  "kernelspec": {
   "display_name": "Python 3.10.5 64-bit",
   "language": "python",
   "name": "python3"
  },
  "language_info": {
   "codemirror_mode": {
    "name": "ipython",
    "version": 3
   },
   "file_extension": ".py",
   "mimetype": "text/x-python",
   "name": "python",
   "nbconvert_exporter": "python",
   "pygments_lexer": "ipython3",
   "version": "3.10.5"
  },
  "orig_nbformat": 4,
  "vscode": {
   "interpreter": {
    "hash": "e8899eb02dfbc033aab5733bdae1bd213fa031d40331094008e8673d99ebab63"
   }
  }
 },
 "nbformat": 4,
 "nbformat_minor": 2
}
