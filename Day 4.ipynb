{
 "cells": [
  {
   "cell_type": "markdown",
   "metadata": {},
   "source": [
    "### Randomisation and Python lists"
   ]
  },
  {
   "cell_type": "code",
   "execution_count": 140,
   "metadata": {},
   "outputs": [
    {
     "name": "stdout",
     "output_type": "stream",
     "text": [
      "7\n",
      "1.028670486334569\n"
     ]
    }
   ],
   "source": [
    "import random\n",
    "print(random.randint(1,10)) # 1 and 100 is inclusive here\n",
    "print(random.random()*5)"
   ]
  },
  {
   "cell_type": "markdown",
   "metadata": {},
   "source": [
    "#### Rock Paper Scissor"
   ]
  },
  {
   "cell_type": "code",
   "execution_count": 161,
   "metadata": {},
   "outputs": [
    {
     "name": "stdout",
     "output_type": "stream",
     "text": [
      "You chose\n",
      "\n",
      "    _______\n",
      "---'   ____)\n",
      "      (_____)\n",
      "      (_____)\n",
      "      (____)\n",
      "---.__(___)\n",
      "\n",
      "Computer Choose: \n",
      "\n",
      "    _______\n",
      "---'   ____)____\n",
      "          ______)\n",
      "       __________)\n",
      "      (____)\n",
      "---.__(___)\n",
      "\n",
      "You win\n"
     ]
    }
   ],
   "source": [
    "import random\n",
    "rock = '''\n",
    "    _______\n",
    "---'   ____)\n",
    "      (_____)\n",
    "      (_____)\n",
    "      (____)\n",
    "---.__(___)\n",
    "'''\n",
    "\n",
    "paper = '''\n",
    "    _______\n",
    "---'   ____)____\n",
    "          ______)\n",
    "          _______)\n",
    "         _______)\n",
    "---.__________)\n",
    "'''\n",
    "\n",
    "scissors = '''\n",
    "    _______\n",
    "---'   ____)____\n",
    "          ______)\n",
    "       __________)\n",
    "      (____)\n",
    "---.__(___)\n",
    "'''\n",
    "\n",
    "#Write your code below this line 👇\n",
    "choice = int(input('What do you choose? Type 0 for Rock, 1 for Paper or 2 for Scissors'))\n",
    "symbols = [rock, paper, scissors]\n",
    "\n",
    "if choice >= 3 or choice < 0:\n",
    "    print('Invalid Number, You lose!')\n",
    "else:\n",
    "    print('You chose')\n",
    "    print(symbols[choice])\n",
    "\n",
    "    print('Computer Choose: ')\n",
    "    computer = random.randint(0,2)\n",
    "\n",
    "    print(symbols[computer])\n",
    "\n",
    "    if computer == choice:\n",
    "        print('Draw')\n",
    "    elif choice == 0 and computer == 1:\n",
    "        print('You Lose')\n",
    "    elif choice == 0 and computer == 2:\n",
    "        print('You win')\n",
    "    elif choice == 1 and computer == 0:\n",
    "        print('You win')\n",
    "    elif choice == 1 and computer == 2:\n",
    "        print('You Lose')\n",
    "    elif choice == 2 and computer == 0:\n",
    "        print('You lose')\n",
    "    elif choice == 2 and computer == 1:\n",
    "        print('You win')"
   ]
  },
  {
   "cell_type": "code",
   "execution_count": 175,
   "metadata": {},
   "outputs": [
    {
     "name": "stdout",
     "output_type": "stream",
     "text": [
      "\n",
      "    _______\n",
      "---'   ____)____\n",
      "          ______)\n",
      "       __________)\n",
      "      (____)\n",
      "---.__(___)\n",
      "\n",
      "Computer chose:\n",
      "\n",
      "    _______\n",
      "---'   ____)____\n",
      "          ______)\n",
      "          _______)\n",
      "         _______)\n",
      "---.__________)\n",
      "\n",
      "You win!\n"
     ]
    }
   ],
   "source": [
    "'''Solution by Angela'''\n",
    "\n",
    "import random\n",
    "\n",
    "rock = '''\n",
    "    _______\n",
    "---'   ____)\n",
    "      (_____)\n",
    "      (_____)\n",
    "      (____)\n",
    "---.__(___)\n",
    "'''\n",
    "\n",
    "paper = '''\n",
    "    _______\n",
    "---'   ____)____\n",
    "          ______)\n",
    "          _______)\n",
    "         _______)\n",
    "---.__________)\n",
    "'''\n",
    "\n",
    "scissors = '''\n",
    "    _______\n",
    "---'   ____)____\n",
    "          ______)\n",
    "       __________)\n",
    "      (____)\n",
    "---.__(___)\n",
    "'''\n",
    "\n",
    "game_images = [rock, paper, scissors]\n",
    "\n",
    "user_choice = int(input(\"What do you choose? Type 0 for Rock, 1 for Paper or 2 for Scissors.\\n\"))\n",
    "if user_choice >= 3 or user_choice < 0: \n",
    "  print(\"You typed an invalid number, you lose!\")\n",
    "else:\n",
    "  print(game_images[user_choice])\n",
    "\n",
    "  computer_choice = random.randint(0, 2)\n",
    "  print(\"Computer chose:\")\n",
    "  print(game_images[computer_choice])\n",
    "\n",
    "  \n",
    "  if user_choice == 0 and computer_choice == 2:\n",
    "    print(\"You win!\")\n",
    "  elif computer_choice == 0 and user_choice == 2:\n",
    "    print(\"You lose\")\n",
    "  elif computer_choice > user_choice:\n",
    "    print(\"You lose\")\n",
    "  elif user_choice > computer_choice:\n",
    "    print(\"You win!\")\n",
    "  elif computer_choice == user_choice:\n",
    "    print(\"It's a draw\")"
   ]
  }
 ],
 "metadata": {
  "kernelspec": {
   "display_name": "Python 3.10.5 64-bit",
   "language": "python",
   "name": "python3"
  },
  "language_info": {
   "codemirror_mode": {
    "name": "ipython",
    "version": 3
   },
   "file_extension": ".py",
   "mimetype": "text/x-python",
   "name": "python",
   "nbconvert_exporter": "python",
   "pygments_lexer": "ipython3",
   "version": "3.10.5"
  },
  "orig_nbformat": 4,
  "vscode": {
   "interpreter": {
    "hash": "e8899eb02dfbc033aab5733bdae1bd213fa031d40331094008e8673d99ebab63"
   }
  }
 },
 "nbformat": 4,
 "nbformat_minor": 2
}
