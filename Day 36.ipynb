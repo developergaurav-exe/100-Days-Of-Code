{
 "cells": [
  {
   "cell_type": "markdown",
   "metadata": {},
   "source": [
    "### Stock News Monitoring Project"
   ]
  },
  {
   "cell_type": "markdown",
   "metadata": {},
   "source": [
    "1. Request stock data from an API, calculate stock prices. (Stock Price change, change %)\n",
    "\n",
    "2.  Checking out the reason for this, i.e. News\n",
    "\n",
    "3. Send all this in SMS, which will help in decision making to buy or sell the stock"
   ]
  },
  {
   "cell_type": "code",
   "execution_count": 4,
   "metadata": {},
   "outputs": [
    {
     "data": {
      "text/plain": [
       "'\\nDigging documentation of API\\n\\nINDENT : Tab\\nUNINDENT : Shift + Tab\\n'"
      ]
     },
     "execution_count": 4,
     "metadata": {},
     "output_type": "execute_result"
    }
   ],
   "source": [
    "'''\n",
    "Digging documentation of API\n",
    "\n",
    "INDENT : Tab\n",
    "UNINDENT : Shift + Tab\n",
    "'''"
   ]
  },
  {
   "cell_type": "markdown",
   "metadata": {},
   "source": [
    "#### Alphavantage API to get closing prices or Yahoo Finance/ yfinance lib to get the stock data"
   ]
  },
  {
   "cell_type": "markdown",
   "metadata": {},
   "source": [
    "##### tapping into prices and calculation to show Stock price difference and change percentage"
   ]
  },
  {
   "cell_type": "markdown",
   "metadata": {},
   "source": [
    "#### alphavantage quite hard to use\n",
    "\n",
    "### News API to get the news about the stock\n",
    "- Under everything endpoint"
   ]
  },
  {
   "cell_type": "markdown",
   "metadata": {},
   "source": [
    "#### Then use Twilio SMS through Python"
   ]
  },
  {
   "cell_type": "markdown",
   "metadata": {},
   "source": [
    "### Source Code👇"
   ]
  },
  {
   "cell_type": "code",
   "execution_count": 18,
   "metadata": {},
   "outputs": [
    {
     "name": "stdout",
     "output_type": "stream",
     "text": [
      "240.9800\n",
      "238.9500\n",
      "1\n",
      "[{'source': {'id': None, 'name': 'Seeking Alpha'}, 'author': 'SA Transcripts', 'title': 'Microsoft Corporation (MSFT) Presents at Deutsche Bank 2022 Technology Conference (Transcript)', 'description': \"Microsoft Corporation (NASDAQ:NASDAQ:MSFT) Deutsche Bank 2022 Technology Conference August 31, 2022 1:30 PM ETCompany ParticipantsDave O'Hara - Executive Vice President & Chief...\", 'url': 'https://seekingalpha.com/article/4538257-microsoft-corporation-msft-presents-deutsche-bank-2022-technology-conference-transcript', 'urlToImage': 'https://static.seekingalpha.com/assets/og_image_1200-29b2bfe1a595477db6826bd2126c63ac2091efb7ec76347a8e7f81ba17e3de6c.png', 'publishedAt': '2022-08-31T20:42:05Z', 'content': \"Microsoft Corporation (NASDAQ:MSFT) Deutsche Bank 2022 Technology Conference August 31, 2022 1:30 PM ET\\r\\n Company Participants\\r\\n Dave O'Hara - Executive Vice President &amp; Chief Financial Officer, … [+37079 chars]\"}, {'source': {'id': None, 'name': 'Yahoo Entertainment'}, 'author': 'Simply Wall St', 'title': 'At US$252, Is Microsoft Corporation (NASDAQ:MSFT) Worth Looking At Closely?', 'description': 'Microsoft Corporation ( NASDAQ:MSFT ) saw significant share price movement during recent months on the NASDAQGS, rising...', 'url': 'https://finance.yahoo.com/news/us-252-microsoft-corporation-nasdaq-160704836.html', 'urlToImage': 'https://s.yimg.com/uu/api/res/1.2/eFZZVJx6QdqQsl5Qimg4Rw--~B/aD00MzI7dz0xMTk0O2FwcGlkPXl0YWNoeW9u/https://media.zenfs.com/en/simply_wall_st__316/a5d5a89dd6ab73bc7694c99b9023ec2d', 'publishedAt': '2022-09-14T16:07:04Z', 'content': 'Microsoft Corporation (NASDAQ:MSFT) saw significant share price movement during recent months on the NASDAQGS, rising to highs of US$293 and falling to the lows of US$242. Some share price movements … [+3829 chars]'}, {'source': {'id': None, 'name': 'Apkmirror.com'}, 'author': None, 'title': 'Microsoft PowerPoint 16.0.15629.20104 beta by Microsoft Corporation', 'description': 'The Microsoft PowerPoint 16.0.15629.20104 beta by Microsoft Corporation APK appeared first on APKMirror.\\nIntroducing APKMirror PREMIUM: ad-free, dark theme, faster downloads, and more.', 'url': 'https://www.apkmirror.com/apk/microsoft-corporation/powerpoint/powerpoint-16-0-15629-20104-release/', 'urlToImage': 'https://www.apkmirror.com/wp-content/uploads/2022/09/22/632249aa930c2-384x384.png', 'publishedAt': '2022-09-15T05:08:23Z', 'content': 'Microsoft PowerPoint is a presentation and slides app that you can carry with you wherever you go. Make a slideshow with music, graphics and charts. Leverage templated PowerPoint slideshows in quarte… [+3753 chars]'}]\n",
      "[\"MSFT: 🔺1%\\nHeadline: Microsoft Corporation (MSFT) Presents at Deutsche Bank 2022 Technology Conference (Transcript). \\nBrief: Microsoft Corporation (NASDAQ:NASDAQ:MSFT) Deutsche Bank 2022 Technology Conference August 31, 2022 1:30 PM ETCompany ParticipantsDave O'Hara - Executive Vice President & Chief...\", 'MSFT: 🔺1%\\nHeadline: At US$252, Is Microsoft Corporation (NASDAQ:MSFT) Worth Looking At Closely?. \\nBrief: Microsoft Corporation ( NASDAQ:MSFT ) saw significant share price movement during recent months on the NASDAQGS, rising...', 'MSFT: 🔺1%\\nHeadline: Microsoft PowerPoint 16.0.15629.20104 beta by Microsoft Corporation. \\nBrief: The Microsoft PowerPoint 16.0.15629.20104 beta by Microsoft Corporation APK appeared first on APKMirror.\\nIntroducing APKMirror PREMIUM: ad-free, dark theme, faster downloads, and more.']\n"
     ]
    }
   ],
   "source": [
    "import requests, api_keys\n",
    "from twilio.rest import Client\n",
    "\n",
    "VIRTUAL_TWILIO_NUMBER = api_keys.MY_TWILIO_NUMBER\n",
    "VERIFIED_NUMBER = api_keys.MY_NUMBER\n",
    "\n",
    "STOCK_NAME = \"MSFT\"\n",
    "COMPANY_NAME = \"Microsoft Corporation\"\n",
    "\n",
    "STOCK_ENDPOINT = \"https://www.alphavantage.co/query\"\n",
    "NEWS_ENDPOINT = \"https://newsapi.org/v2/everything\"\n",
    "\n",
    "STOCK_API_KEY = api_keys.ALPHAVANTAGE_API_KEY\n",
    "NEWS_API_KEY = api_keys.NEWS_API_KEY\n",
    "TWILIO_SID = api_keys.TWILIO_ACCOUNT_SID\n",
    "TWILIO_AUTH_TOKEN = api_keys.TWILIO_AUTH_TOKEN\n",
    "\n",
    "## STEP 1: Use https://www.alphavantage.co/documentation/#daily\n",
    "# When stock price increase/decreases by 5% between yesterday and the day before yesterday then print(\"Get News\").\n",
    "\n",
    "#Get yesterday's closing stock price\n",
    "stock_params = {\n",
    "    \"function\": \"TIME_SERIES_DAILY\",\n",
    "    \"symbol\": STOCK_NAME,\n",
    "    \"apikey\": STOCK_API_KEY,\n",
    "}\n",
    "\n",
    "response = requests.get(STOCK_ENDPOINT, params=stock_params)\n",
    "\n",
    "data = response.json()[\"Time Series (Daily)\"]\n",
    "data_list = [value for (key, value) in data.items()]\n",
    "yesterday_data = data_list[0]\n",
    "yesterday_closing_price = yesterday_data[\"4. close\"]\n",
    "print(yesterday_closing_price)\n",
    "\n",
    "#Get the day before yesterday's closing stock price\n",
    "day_before_yesterday_data = data_list[1]\n",
    "day_before_yesterday_closing_price = day_before_yesterday_data[\"4. close\"]\n",
    "print(day_before_yesterday_closing_price)\n",
    "\n",
    "#Find the positive difference between 1 and 2. e.g. 40 - 20 = -20, but the positive difference is 20. Hint: https://www.w3schools.com/python/ref_func_abs.asp\n",
    "difference = float(yesterday_closing_price) - float(day_before_yesterday_closing_price)\n",
    "up_down = None\n",
    "if difference > 0:\n",
    "    up_down = \"🔺\"\n",
    "else:\n",
    "    up_down = \"🔻\"\n",
    "\n",
    "#Work out the percentage difference in price between closing price yesterday and closing price the day before yesterday.\n",
    "diff_percent = round((difference / float(yesterday_closing_price)) * 100)\n",
    "print(diff_percent)\n",
    "\n",
    "\n",
    "    ## STEP 2: Instead of printing (\"Get News\"), actually get the first 3 news pieces for the COMPANY_NAME.\n",
    "\n",
    "#Instead of printing (\"Get News\"), use the News API to get articles related to the COMPANY_NAME.\n",
    "#If difference percentage is greater than 5 then print(\"Get News\").\n",
    "if abs(diff_percent) > 1:\n",
    "    news_params = {\n",
    "        \"apiKey\": NEWS_API_KEY,\n",
    "        \"qInTitle\": COMPANY_NAME,\n",
    "    }\n",
    "\n",
    "    news_response = requests.get(NEWS_ENDPOINT, params=news_params)\n",
    "    articles = news_response.json()[\"articles\"]\n",
    "\n",
    "    #Use Python slice operator to create a list that contains the first 3 articles. Hint: https://stackoverflow.com/questions/509211/understanding-slice-notation\n",
    "    three_articles = articles[:3]\n",
    "    print(three_articles)\n",
    "\n",
    "    ## STEP 3: Use Twilio to send a seperate message with each article's title and description to your phone number.\n",
    "\n",
    "    #Create a new list of the first 3 article's headline and description using list comprehension.\n",
    "    formatted_articles = [f\"{STOCK_NAME}: {up_down}{diff_percent}%\\nHeadline: {article['title']}. \\nBrief: {article['description']}\" for article in three_articles]\n",
    "    print(formatted_articles)\n",
    "    #Send each article as a separate message via Twilio.\n",
    "    client = Client(TWILIO_SID, TWILIO_AUTH_TOKEN)\n",
    "\n",
    "    #TODO 8. - Send each article as a separate message via Twilio.\n",
    "    for article in formatted_articles:\n",
    "        message = client.messages.create(\n",
    "            body=article,\n",
    "            from_=VIRTUAL_TWILIO_NUMBER,\n",
    "            to=VERIFIED_NUMBER\n",
    "        )\n"
   ]
  }
 ],
 "metadata": {
  "kernelspec": {
   "display_name": "Python 3.10.5 64-bit",
   "language": "python",
   "name": "python3"
  },
  "language_info": {
   "codemirror_mode": {
    "name": "ipython",
    "version": 3
   },
   "file_extension": ".py",
   "mimetype": "text/x-python",
   "name": "python",
   "nbconvert_exporter": "python",
   "pygments_lexer": "ipython3",
   "version": "3.10.5"
  },
  "orig_nbformat": 4,
  "vscode": {
   "interpreter": {
    "hash": "e8899eb02dfbc033aab5733bdae1bd213fa031d40331094008e8673d99ebab63"
   }
  }
 },
 "nbformat": 4,
 "nbformat_minor": 2
}
