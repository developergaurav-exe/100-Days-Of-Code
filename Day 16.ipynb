{
 "cells": [
  {
   "cell_type": "markdown",
   "metadata": {},
   "source": [
    "### Object Oriented Programming OOPs"
   ]
  },
  {
   "cell_type": "code",
   "execution_count": 1,
   "metadata": {},
   "outputs": [
    {
     "name": "stdout",
     "output_type": "stream",
     "text": [
      "<turtle.Turtle object at 0x00000236401847C0>\n",
      "300\n"
     ]
    }
   ],
   "source": [
    "from traceback import print_tb\n",
    "from turtle import Turtle, Screen\n",
    "\n",
    "t = Turtle()\n",
    "print(t)\n",
    "t.shape('turtle') # shape changed to turtle\n",
    "t.color('blue2')\n",
    "t.forward(100)\n",
    "\n",
    "my_screen = Screen()\n",
    "print(my_screen.canvheight) # 300 is the output of the screen size\n",
    "my_screen.exitonclick() # turtle window exits on click"
   ]
  },
  {
   "cell_type": "markdown",
   "metadata": {},
   "source": [
    "#### PyPi"
   ]
  },
  {
   "cell_type": "code",
   "execution_count": 24,
   "metadata": {},
   "outputs": [
    {
     "name": "stdout",
     "output_type": "stream",
     "text": [
      "{'base_align_value': 'c', 'Pokemon Name': 'c', 'Type': 'c'} \n",
      "\n",
      "+--------------+----------+\n",
      "| Pokemon Name | Type     |\n",
      "+--------------+----------+\n",
      "| Pikachu      | Electric |\n",
      "| Squirtle     | Water    |\n",
      "| Charmander   | Fire     |\n",
      "+--------------+----------+\n"
     ]
    }
   ],
   "source": [
    "from msilib.schema import tables\n",
    "from prettytable import PrettyTable\n",
    "\n",
    "table = PrettyTable()\n",
    "\n",
    "table.add_column(\"Pokemon Name\", [\"Pikachu\", 'Squirtle', \"Charmander\"])\n",
    "\n",
    "table.add_column(\"Type\", [\"Electric\", \"Water\", \"Fire\"])\n",
    "print(table.align,'\\n')\n",
    "table.align = 'l' # it was a attribute and not a method\n",
    "\n",
    "print(table)\n"
   ]
  },
  {
   "cell_type": "markdown",
   "metadata": {},
   "source": [
    "#### Coffee Vending Machine through OOPs"
   ]
  },
  {
   "cell_type": "code",
   "execution_count": 19,
   "metadata": {},
   "outputs": [
    {
     "name": "stdout",
     "output_type": "stream",
     "text": [
      "Please insert coins.\n",
      "Here is $1.21 in change.\n",
      "Here is your latte ☕️. Enjoy!\n",
      "Sorry there is not enough water.\n",
      "Water: 100ml\n",
      "Milk: 50ml\n",
      "Coffee: 76g\n",
      "Money: $2.5\n"
     ]
    }
   ],
   "source": [
    "from pdb import Restart\n",
    "from menu import Menu, MenuItem\n",
    "from coffee_maker import CoffeeMaker\n",
    "from money_machine import MoneyMachine\n",
    "\n",
    "\n",
    "money_machine = MoneyMachine()\n",
    "coffee_maker = CoffeeMaker()\n",
    "menu = Menu()\n",
    "\n",
    "is_on = True\n",
    "\n",
    "while is_on:\n",
    "    options = menu.get_items()\n",
    "    choice = input(f\"What would you like? ({options}): \")\n",
    "    if choice == \"off\":\n",
    "        is_on = False\n",
    "    elif choice == \"report\":\n",
    "        coffee_maker.report()\n",
    "        money_machine.report()\n",
    "    else:\n",
    "        drink = menu.find_drink(choice)\n",
    "        \n",
    "        if coffee_maker.is_resource_sufficient(drink) and money_machine.make_payment(drink.cost):\n",
    "            coffee_maker.make_coffee(drink)\n"
   ]
  },
  {
   "cell_type": "code",
   "execution_count": null,
   "metadata": {},
   "outputs": [],
   "source": []
  }
 ],
 "metadata": {
  "kernelspec": {
   "display_name": "Python 3.10.5 64-bit",
   "language": "python",
   "name": "python3"
  },
  "language_info": {
   "codemirror_mode": {
    "name": "ipython",
    "version": 3
   },
   "file_extension": ".py",
   "mimetype": "text/x-python",
   "name": "python",
   "nbconvert_exporter": "python",
   "pygments_lexer": "ipython3",
   "version": "3.10.5"
  },
  "orig_nbformat": 4,
  "vscode": {
   "interpreter": {
    "hash": "e8899eb02dfbc033aab5733bdae1bd213fa031d40331094008e8673d99ebab63"
   }
  }
 },
 "nbformat": 4,
 "nbformat_minor": 2
}
