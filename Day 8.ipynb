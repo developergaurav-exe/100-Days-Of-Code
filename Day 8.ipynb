{
 "cells": [
  {
   "cell_type": "markdown",
   "metadata": {},
   "source": [
    "### Functions with inputs"
   ]
  },
  {
   "cell_type": "code",
   "execution_count": null,
   "metadata": {},
   "outputs": [],
   "source": [
    "'''\n",
    "PARAMETERS vs ARGUMENTS\n",
    "=======================\n",
    "something = 123\n",
    "    :         :  \n",
    "    :         :\n",
    "Parameter    Argument\n",
    "\n",
    "def func(something):\n",
    "    # Do this with something\n",
    "\n",
    "POSITIONAL ARGUMENTS\n",
    "====================\n",
    "func(1,3,2) # a = 1, b = 3, c = 2\n",
    "\n",
    "KEYWORD ARGUMENTS\n",
    "=================\n",
    "func(a=1, b=2, c=3)\n",
    "'''"
   ]
  },
  {
   "cell_type": "markdown",
   "metadata": {},
   "source": [
    "#### prime number\n"
   ]
  },
  {
   "cell_type": "code",
   "execution_count": null,
   "metadata": {},
   "outputs": [],
   "source": [
    "#Write your code below this line 👇\n",
    "\n",
    "def prime_checker(number):\n",
    "    primes = [2,3,5,7,11,13]\n",
    "    is_prime = True\n",
    "    for i in range(2,number):\n",
    "        if number%i == 0:\n",
    "            is_prime = False\n",
    "            break\n",
    "    if is_prime:\n",
    "        print(\"It's a prime number.\")\n",
    "    else:\n",
    "        print(\"It's not a prime number.\")\n",
    "\n",
    "#Write your code above this line 👆\n",
    "    \n",
    "#Do NOT change any of the code below👇\n",
    "n = int(input(\"Check this number: \"))\n",
    "prime_checker(number=n)"
   ]
  },
  {
   "cell_type": "markdown",
   "metadata": {},
   "source": [
    "##### Defining and calling a function with parameters"
   ]
  },
  {
   "cell_type": "code",
   "execution_count": null,
   "metadata": {},
   "outputs": [],
   "source": [
    "'''\n",
    " def function_name(parameter: data_type) -> return_type:\n",
    "    \"\"\"Doctring\"\"\"\n",
    "    # body of the function\n",
    "    return expression    \n",
    "'''"
   ]
  },
  {
   "cell_type": "markdown",
   "metadata": {},
   "source": [
    "#### Ceaser Cipher"
   ]
  },
  {
   "cell_type": "code",
   "execution_count": 39,
   "metadata": {},
   "outputs": [
    {
     "name": "stdout",
     "output_type": "stream",
     "text": [
      "           \n",
      " ,adPPYba, ,adPPYYba,  ,adPPYba, ,adPPYba, ,adPPYYba, 8b,dPPYba,  \n",
      "a8\"     \"\" \"\"     `Y8 a8P_____88 I8[    \"\" \"\"     `Y8 88P'   \"Y8  \n",
      "8b         ,adPPPPP88 8PP\"  `\"Y8ba,  ,adPPPPP88 88          \n",
      "\"8a,   ,aa 88,    ,88 \"8b,   ,aa aa    ]8I 88,    ,88 88          \n",
      " `\"Ybbd8\"' `\"8bbdP\"Y8  `\"Ybbd8\"' `\"YbbdP\"' `\"8bbdP\"Y8 88   \n",
      "            88             88                                 \n",
      "           \"\"             88                                 \n",
      "                          88                                 \n",
      " ,adPPYba, 88 8b,dPPYba,  88,dPPYba,   ,adPPYba, 8b,dPPYba,  \n",
      "a8\"     \"\" 88 88P'    \"8a 88P'    \"8a a8P_____88 88P'   \"Y8  \n",
      "8b         88 88       d8 88       88 8PP\" 88          \n",
      "\"8a,   ,aa 88 88b,   ,a8\" 88       88 \"8b,   ,aa 88          \n",
      " `\"Ybbd8\"' 88 88`YbbdP\"'  88       88  `\"Ybbd8\"' 88          \n",
      "              88                                             \n",
      "              88           \n",
      "\n"
     ]
    },
    {
     "ename": "IndexError",
     "evalue": "list index out of range",
     "output_type": "error",
     "traceback": [
      "\u001b[1;31m---------------------------------------------------------------------------\u001b[0m",
      "\u001b[1;31mIndexError\u001b[0m                                Traceback (most recent call last)",
      "\u001b[1;32mc:\\Users\\harsh\\Dropbox\\My PC (DESKTOP-5JVQ0UA)\\desktop\\Python Development\\100 Days of Code\\Day 8.ipynb Cell 8\u001b[0m in \u001b[0;36m<cell line: 35>\u001b[1;34m()\u001b[0m\n\u001b[0;32m     <a href='vscode-notebook-cell:/c%3A/Users/harsh/Dropbox/My%20PC%20%28DESKTOP-5JVQ0UA%29/desktop/Python%20Development/100%20Days%20of%20Code/Day%208.ipynb#ch0000004?line=30'>31</a>\u001b[0m                 s \u001b[39m+\u001b[39m\u001b[39m=\u001b[39m alphabet[shift_amount]\n\u001b[0;32m     <a href='vscode-notebook-cell:/c%3A/Users/harsh/Dropbox/My%20PC%20%28DESKTOP-5JVQ0UA%29/desktop/Python%20Development/100%20Days%20of%20Code/Day%208.ipynb#ch0000004?line=32'>33</a>\u001b[0m         \u001b[39mprint\u001b[39m(\u001b[39mf\u001b[39m\u001b[39m'\u001b[39m\u001b[39mEncrypted text for \u001b[39m\u001b[39m{\u001b[39;00mtext\u001b[39m}\u001b[39;00m\u001b[39m is\u001b[39m\u001b[39m\\n\u001b[39;00m\u001b[39m{\u001b[39;00ms\u001b[39m}\u001b[39;00m\u001b[39m'\u001b[39m)\n\u001b[1;32m---> <a href='vscode-notebook-cell:/c%3A/Users/harsh/Dropbox/My%20PC%20%28DESKTOP-5JVQ0UA%29/desktop/Python%20Development/100%20Days%20of%20Code/Day%208.ipynb#ch0000004?line=34'>35</a>\u001b[0m ceaser(text, shift, direction)\n",
      "\u001b[1;32mc:\\Users\\harsh\\Dropbox\\My PC (DESKTOP-5JVQ0UA)\\desktop\\Python Development\\100 Days of Code\\Day 8.ipynb Cell 8\u001b[0m in \u001b[0;36mceaser\u001b[1;34m(text, shift, direction)\u001b[0m\n\u001b[0;32m     <a href='vscode-notebook-cell:/c%3A/Users/harsh/Dropbox/My%20PC%20%28DESKTOP-5JVQ0UA%29/desktop/Python%20Development/100%20Days%20of%20Code/Day%208.ipynb#ch0000004?line=25'>26</a>\u001b[0m shift_amount \u001b[39m=\u001b[39m alphabet\u001b[39m.\u001b[39mindex(i) \u001b[39m+\u001b[39m shift\n\u001b[0;32m     <a href='vscode-notebook-cell:/c%3A/Users/harsh/Dropbox/My%20PC%20%28DESKTOP-5JVQ0UA%29/desktop/Python%20Development/100%20Days%20of%20Code/Day%208.ipynb#ch0000004?line=27'>28</a>\u001b[0m \u001b[39mif\u001b[39;00m shift_amount \u001b[39m>\u001b[39m \u001b[39m25\u001b[39m:\n\u001b[1;32m---> <a href='vscode-notebook-cell:/c%3A/Users/harsh/Dropbox/My%20PC%20%28DESKTOP-5JVQ0UA%29/desktop/Python%20Development/100%20Days%20of%20Code/Day%208.ipynb#ch0000004?line=28'>29</a>\u001b[0m     s \u001b[39m+\u001b[39m\u001b[39m=\u001b[39m alphabet[shift_amount \u001b[39m-\u001b[39;49m \u001b[39m26\u001b[39;49m]\n\u001b[0;32m     <a href='vscode-notebook-cell:/c%3A/Users/harsh/Dropbox/My%20PC%20%28DESKTOP-5JVQ0UA%29/desktop/Python%20Development/100%20Days%20of%20Code/Day%208.ipynb#ch0000004?line=29'>30</a>\u001b[0m \u001b[39melse\u001b[39;00m:\n\u001b[0;32m     <a href='vscode-notebook-cell:/c%3A/Users/harsh/Dropbox/My%20PC%20%28DESKTOP-5JVQ0UA%29/desktop/Python%20Development/100%20Days%20of%20Code/Day%208.ipynb#ch0000004?line=30'>31</a>\u001b[0m     s \u001b[39m+\u001b[39m\u001b[39m=\u001b[39m alphabet[shift_amount]\n",
      "\u001b[1;31mIndexError\u001b[0m: list index out of range"
     ]
    }
   ],
   "source": [
    "import art\n",
    "alphabet = ['a', 'b', 'c', 'd', 'e', 'f', 'g', 'h', 'i', 'j', 'k', 'l', 'm', 'n', 'o', 'p', 'q', 'r', 's', 't', 'u', 'v', 'w', 'x', 'y', 'z']\n",
    "\n",
    "# increase the alphabet twice to solve the problem for z or My trick to get till 50. \n",
    "# But it still doesn't supports shift number like 100. \n",
    "# So, moving forward with Angela's Code.\n",
    "\n",
    "print(art.logo)\n",
    "direction = input(\"Type 'encode' to encrypt, type 'decode' to decrypt:\\n\")\n",
    "text = input(\"Type your message:\\n\").lower()\n",
    "shift = int(input(\"Type the shift number:\\n\"))\n",
    "\n",
    "def ceaser(text, shift, direction):\n",
    "    s = ''\n",
    "    if direction.lower() == 'decode':\n",
    "\n",
    "        for i in text:\n",
    "            shift_amount = alphabet.index(i) - shift\n",
    "\n",
    "            if shift_amount < 0:\n",
    "                s += alphabet[shift_amount + 26]\n",
    "            else:\n",
    "                s += alphabet[shift_amount]\n",
    "    \n",
    "        print(f'Decrypted text for {text} is\\n{s}')\n",
    "\n",
    "    else:\n",
    "\n",
    "        for i in text:\n",
    "            shift_amount = alphabet.index(i) + shift\n",
    "\n",
    "            if shift_amount > 25:\n",
    "                s += alphabet[shift_amount - 26]\n",
    "            else:\n",
    "                s += alphabet[shift_amount]\n",
    "\n",
    "        print(f'Encrypted text for {text} is\\n{s}')\n",
    "\n",
    "ceaser(text, shift, direction)"
   ]
  },
  {
   "cell_type": "code",
   "execution_count": 49,
   "metadata": {},
   "outputs": [
    {
     "name": "stdout",
     "output_type": "stream",
     "text": [
      "           \n",
      " ,adPPYba, ,adPPYYba,  ,adPPYba, ,adPPYba, ,adPPYYba, 8b,dPPYba,  \n",
      "a8\"     \"\" \"\"     `Y8 a8P_____88 I8[    \"\" \"\"     `Y8 88P'   \"Y8  \n",
      "8b         ,adPPPPP88 8PP\"  `\"Y8ba,  ,adPPPPP88 88          \n",
      "\"8a,   ,aa 88,    ,88 \"8b,   ,aa aa    ]8I 88,    ,88 88          \n",
      " `\"Ybbd8\"' `\"8bbdP\"Y8  `\"Ybbd8\"' `\"YbbdP\"' `\"8bbdP\"Y8 88   \n",
      "            88             88                                 \n",
      "           \"\"             88                                 \n",
      "                          88                                 \n",
      " ,adPPYba, 88 8b,dPPYba,  88,dPPYba,   ,adPPYba, 8b,dPPYba,  \n",
      "a8\"     \"\" 88 88P'    \"8a 88P'    \"8a a8P_____88 88P'   \"Y8  \n",
      "8b         88 88       d8 88       88 8PP\" 88          \n",
      "\"8a,   ,aa 88 88b,   ,a8\" 88       88 \"8b,   ,aa 88          \n",
      " `\"Ybbd8\"' 88 88`YbbdP\"'  88       88  `\"Ybbd8\"' 88          \n",
      "              88                                             \n",
      "              88           \n",
      "\n",
      "Here's the encoded message of hello: mjqqt\n",
      "Here's the decoded message of mjqqt: hello\n"
     ]
    }
   ],
   "source": [
    "import art\n",
    "alphabet = ['a', 'b', 'c', 'd', 'e', 'f', 'g', 'h', 'i', 'j', 'k', 'l', 'm', 'n', 'o', 'p', 'q', 'r', 's', 't', 'u', 'v', 'w', 'x', 'y', 'z', 'a', 'b', 'c', 'd', 'e', 'f', 'g', 'h', 'i', 'j', 'k', 'l', 'm', 'n', 'o', 'p', 'q', 'r', 's', 't', 'u', 'v', 'w', 'x', 'y', 'z']\n",
    "\n",
    "def caesar(start_text, shift_amount, cipher_direction):\n",
    "  end_text = \"\"\n",
    "  if cipher_direction == \"decode\":\n",
    "    shift_amount *= -1\n",
    "\n",
    "  for char in start_text:\n",
    "    if char in alphabet:\n",
    "\n",
    "      position = alphabet.index(char)\n",
    "      new_position = position + shift_amount\n",
    "      end_text += alphabet[new_position]\n",
    "    else:\n",
    "      end_text += char\n",
    "  print(f\"Here's the {cipher_direction}d message of {start_text}: {end_text}\")\n",
    "\n",
    "print(art.logo)\n",
    "\n",
    "\n",
    "restart = True\n",
    "while restart:\n",
    "  direction = input(\"Type 'encode' to encrypt, type 'decode' to decrypt:\\n\")\n",
    "  text = input(\"Type your message:\\n\").lower()\n",
    "  shift = int(input(\"Type the shift number:\\n\"))\n",
    "\n",
    "  while shift > 25:\n",
    "    shift = shift%26\n",
    "\n",
    "  caesar(start_text=text, shift_amount=shift, cipher_direction=direction)\n",
    "  choice = input('Restart the cipher program? y/n').lower()\n",
    "  if choice == 'n':\n",
    "    restart = False"
   ]
  }
 ],
 "metadata": {
  "kernelspec": {
   "display_name": "Python 3.10.5 64-bit",
   "language": "python",
   "name": "python3"
  },
  "language_info": {
   "codemirror_mode": {
    "name": "ipython",
    "version": 3
   },
   "file_extension": ".py",
   "mimetype": "text/x-python",
   "name": "python",
   "nbconvert_exporter": "python",
   "pygments_lexer": "ipython3",
   "version": "3.10.5"
  },
  "orig_nbformat": 4,
  "vscode": {
   "interpreter": {
    "hash": "e8899eb02dfbc033aab5733bdae1bd213fa031d40331094008e8673d99ebab63"
   }
  }
 },
 "nbformat": 4,
 "nbformat_minor": 2
}
