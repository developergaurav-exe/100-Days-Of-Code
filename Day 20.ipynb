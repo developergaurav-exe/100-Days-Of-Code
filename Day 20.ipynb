{
 "cells": [
  {
   "cell_type": "markdown",
   "metadata": {},
   "source": [
    "### Building the famous Snake Game!"
   ]
  },
  {
   "cell_type": "markdown",
   "metadata": {},
   "source": [
    "##### Day 20"
   ]
  },
  {
   "cell_type": "code",
   "execution_count": 1,
   "metadata": {},
   "outputs": [
    {
     "ename": "KeyboardInterrupt",
     "evalue": "",
     "output_type": "error",
     "traceback": [
      "\u001b[1;31m---------------------------------------------------------------------------\u001b[0m",
      "\u001b[1;31mKeyboardInterrupt\u001b[0m                         Traceback (most recent call last)",
      "\u001b[1;32mc:\\Users\\harsh\\Dropbox\\My PC (DESKTOP-5JVQ0UA)\\Desktop\\Python Development\\100 Days of Code\\Day 20.ipynb Cell 2\u001b[0m in \u001b[0;36m<cell line: 22>\u001b[1;34m()\u001b[0m\n\u001b[0;32m     <a href='vscode-notebook-cell:/c%3A/Users/harsh/Dropbox/My%20PC%20%28DESKTOP-5JVQ0UA%29/Desktop/Python%20Development/100%20Days%20of%20Code/Day%2020.ipynb#W0sZmlsZQ%3D%3D?line=21'>22</a>\u001b[0m \u001b[39mwhile\u001b[39;00m on:\n\u001b[0;32m     <a href='vscode-notebook-cell:/c%3A/Users/harsh/Dropbox/My%20PC%20%28DESKTOP-5JVQ0UA%29/Desktop/Python%20Development/100%20Days%20of%20Code/Day%2020.ipynb#W0sZmlsZQ%3D%3D?line=22'>23</a>\u001b[0m     screen\u001b[39m.\u001b[39mupdate() \u001b[39m# the two important functions to understand here update and sleep\u001b[39;00m\n\u001b[1;32m---> <a href='vscode-notebook-cell:/c%3A/Users/harsh/Dropbox/My%20PC%20%28DESKTOP-5JVQ0UA%29/Desktop/Python%20Development/100%20Days%20of%20Code/Day%2020.ipynb#W0sZmlsZQ%3D%3D?line=23'>24</a>\u001b[0m     time\u001b[39m.\u001b[39;49msleep(\u001b[39m0.1\u001b[39;49m) \n\u001b[0;32m     <a href='vscode-notebook-cell:/c%3A/Users/harsh/Dropbox/My%20PC%20%28DESKTOP-5JVQ0UA%29/Desktop/Python%20Development/100%20Days%20of%20Code/Day%2020.ipynb#W0sZmlsZQ%3D%3D?line=25'>26</a>\u001b[0m     snake\u001b[39m.\u001b[39mmove() \u001b[39m# The snake keeps on moving\u001b[39;00m\n\u001b[0;32m     <a href='vscode-notebook-cell:/c%3A/Users/harsh/Dropbox/My%20PC%20%28DESKTOP-5JVQ0UA%29/Desktop/Python%20Development/100%20Days%20of%20Code/Day%2020.ipynb#W0sZmlsZQ%3D%3D?line=27'>28</a>\u001b[0m screen\u001b[39m.\u001b[39mexitonclick()\n",
      "\u001b[1;31mKeyboardInterrupt\u001b[0m: "
     ]
    }
   ],
   "source": [
    "from turtle import Screen, Turtle\n",
    "import time\n",
    "from snake import Snake # Snake class created having all the required functions\n",
    "\n",
    "screen = Screen()\n",
    "screen.setup(width=600, height=600)\n",
    "screen.bgcolor(\"black\")\n",
    "screen.title(\"My Snake Game\") \n",
    "screen.tracer(0)\n",
    "\n",
    "\"\"\"Create a Snake Body\"\"\"\n",
    "snake = Snake()\n",
    "\n",
    "screen.listen()\n",
    "screen.onkey(fun=snake.up, key=\"Up\")\n",
    "screen.onkey(fun=snake.down, key=\"Down\")\n",
    "screen.onkey(fun=snake.left, key=\"Left\")\n",
    "screen.onkey(fun=snake.right, key=\"Right\")\n",
    "\n",
    "\"\"\"Move the Snake\"\"\"\n",
    "on = True\n",
    "while on:\n",
    "    screen.update() # the two important functions to understand here update and sleep\n",
    "    time.sleep(0.1) \n",
    "\n",
    "    snake.move() # The snake keeps on moving\n",
    "\n",
    "screen.exitonclick()"
   ]
  }
 ],
 "metadata": {
  "kernelspec": {
   "display_name": "Python 3.10.5 64-bit",
   "language": "python",
   "name": "python3"
  },
  "language_info": {
   "codemirror_mode": {
    "name": "ipython",
    "version": 3
   },
   "file_extension": ".py",
   "mimetype": "text/x-python",
   "name": "python",
   "nbconvert_exporter": "python",
   "pygments_lexer": "ipython3",
   "version": "3.10.5"
  },
  "orig_nbformat": 4,
  "vscode": {
   "interpreter": {
    "hash": "e8899eb02dfbc033aab5733bdae1bd213fa031d40331094008e8673d99ebab63"
   }
  }
 },
 "nbformat": 4,
 "nbformat_minor": 2
}
