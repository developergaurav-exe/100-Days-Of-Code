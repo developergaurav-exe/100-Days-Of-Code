{
 "cells": [
  {
   "cell_type": "markdown",
   "metadata": {},
   "source": [
    "### Email SMTP and the datetime module"
   ]
  },
  {
   "cell_type": "markdown",
   "metadata": {},
   "source": [
    "- Simple Mail Transfer Protocol "
   ]
  },
  {
   "cell_type": "code",
   "execution_count": 10,
   "metadata": {},
   "outputs": [
    {
     "ename": "SMTPAuthenticationError",
     "evalue": "(535, b'5.7.8 Username and Password not accepted. Learn more at\\n5.7.8  https://support.google.com/mail/?p=BadCredentials w5-20020aa79545000000b0053818255880sm3362410pfq.193 - gsmtp')",
     "output_type": "error",
     "traceback": [
      "\u001b[1;31m---------------------------------------------------------------------------\u001b[0m",
      "\u001b[1;31mSMTPAuthenticationError\u001b[0m                   Traceback (most recent call last)",
      "\u001b[1;32mc:\\Users\\harsh\\Dropbox\\My PC (DESKTOP-5JVQ0UA)\\Desktop\\Python Development\\100 Days of Code\\Day 32.ipynb Cell 3\u001b[0m in \u001b[0;36m<cell line: 4>\u001b[1;34m()\u001b[0m\n\u001b[0;32m      <a href='vscode-notebook-cell:/c%3A/Users/harsh/Dropbox/My%20PC%20%28DESKTOP-5JVQ0UA%29/Desktop/Python%20Development/100%20Days%20of%20Code/Day%2032.ipynb#W1sZmlsZQ%3D%3D?line=3'>4</a>\u001b[0m \u001b[39mwith\u001b[39;00m smtplib\u001b[39m.\u001b[39mSMTP(\u001b[39m\"\u001b[39m\u001b[39msmtp.gmail.com\u001b[39m\u001b[39m\"\u001b[39m) \u001b[39mas\u001b[39;00m connection: \u001b[39m# establishing conncetion witn email providers\u001b[39;00m\n\u001b[0;32m      <a href='vscode-notebook-cell:/c%3A/Users/harsh/Dropbox/My%20PC%20%28DESKTOP-5JVQ0UA%29/Desktop/Python%20Development/100%20Days%20of%20Code/Day%2032.ipynb#W1sZmlsZQ%3D%3D?line=4'>5</a>\u001b[0m     connection\u001b[39m.\u001b[39mstarttls() \u001b[39m# establishing secure connection\u001b[39;00m\n\u001b[1;32m----> <a href='vscode-notebook-cell:/c%3A/Users/harsh/Dropbox/My%20PC%20%28DESKTOP-5JVQ0UA%29/Desktop/Python%20Development/100%20Days%20of%20Code/Day%2032.ipynb#W1sZmlsZQ%3D%3D?line=6'>7</a>\u001b[0m     connection\u001b[39m.\u001b[39;49mlogin(user\u001b[39m=\u001b[39;49m keys\u001b[39m.\u001b[39;49mmy_email, password\u001b[39m=\u001b[39;49m keys\u001b[39m.\u001b[39;49mmy_password) \u001b[39m# logged in as usual\u001b[39;00m\n\u001b[0;32m      <a href='vscode-notebook-cell:/c%3A/Users/harsh/Dropbox/My%20PC%20%28DESKTOP-5JVQ0UA%29/Desktop/Python%20Development/100%20Days%20of%20Code/Day%2032.ipynb#W1sZmlsZQ%3D%3D?line=8'>9</a>\u001b[0m     connection\u001b[39m.\u001b[39msendmail(\n\u001b[0;32m     <a href='vscode-notebook-cell:/c%3A/Users/harsh/Dropbox/My%20PC%20%28DESKTOP-5JVQ0UA%29/Desktop/Python%20Development/100%20Days%20of%20Code/Day%2032.ipynb#W1sZmlsZQ%3D%3D?line=9'>10</a>\u001b[0m         from_addr\u001b[39m=\u001b[39mkeys\u001b[39m.\u001b[39mmy_email,\n\u001b[0;32m     <a href='vscode-notebook-cell:/c%3A/Users/harsh/Dropbox/My%20PC%20%28DESKTOP-5JVQ0UA%29/Desktop/Python%20Development/100%20Days%20of%20Code/Day%2032.ipynb#W1sZmlsZQ%3D%3D?line=10'>11</a>\u001b[0m         to_addrs\u001b[39m=\u001b[39mkeys\u001b[39m.\u001b[39mmy_primary_email, \n\u001b[0;32m     <a href='vscode-notebook-cell:/c%3A/Users/harsh/Dropbox/My%20PC%20%28DESKTOP-5JVQ0UA%29/Desktop/Python%20Development/100%20Days%20of%20Code/Day%2032.ipynb#W1sZmlsZQ%3D%3D?line=11'>12</a>\u001b[0m         msg\u001b[39m=\u001b[39m\u001b[39m\"\u001b[39m\u001b[39mHello\u001b[39m\u001b[39m\\n\u001b[39;00m\u001b[39m\\n\u001b[39;00m\u001b[39mAutomated generated Email.\u001b[39m\u001b[39m\"\u001b[39m\n\u001b[0;32m     <a href='vscode-notebook-cell:/c%3A/Users/harsh/Dropbox/My%20PC%20%28DESKTOP-5JVQ0UA%29/Desktop/Python%20Development/100%20Days%20of%20Code/Day%2032.ipynb#W1sZmlsZQ%3D%3D?line=12'>13</a>\u001b[0m         )\n",
      "File \u001b[1;32mc:\\Users\\harsh\\AppData\\Local\\Programs\\Python\\Python310\\lib\\smtplib.py:750\u001b[0m, in \u001b[0;36mSMTP.login\u001b[1;34m(self, user, password, initial_response_ok)\u001b[0m\n\u001b[0;32m    747\u001b[0m         last_exception \u001b[39m=\u001b[39m e\n\u001b[0;32m    749\u001b[0m \u001b[39m# We could not login successfully.  Return result of last attempt.\u001b[39;00m\n\u001b[1;32m--> 750\u001b[0m \u001b[39mraise\u001b[39;00m last_exception\n",
      "File \u001b[1;32mc:\\Users\\harsh\\AppData\\Local\\Programs\\Python\\Python310\\lib\\smtplib.py:739\u001b[0m, in \u001b[0;36mSMTP.login\u001b[1;34m(self, user, password, initial_response_ok)\u001b[0m\n\u001b[0;32m    737\u001b[0m method_name \u001b[39m=\u001b[39m \u001b[39m'\u001b[39m\u001b[39mauth_\u001b[39m\u001b[39m'\u001b[39m \u001b[39m+\u001b[39m authmethod\u001b[39m.\u001b[39mlower()\u001b[39m.\u001b[39mreplace(\u001b[39m'\u001b[39m\u001b[39m-\u001b[39m\u001b[39m'\u001b[39m, \u001b[39m'\u001b[39m\u001b[39m_\u001b[39m\u001b[39m'\u001b[39m)\n\u001b[0;32m    738\u001b[0m \u001b[39mtry\u001b[39;00m:\n\u001b[1;32m--> 739\u001b[0m     (code, resp) \u001b[39m=\u001b[39m \u001b[39mself\u001b[39;49m\u001b[39m.\u001b[39;49mauth(\n\u001b[0;32m    740\u001b[0m         authmethod, \u001b[39mgetattr\u001b[39;49m(\u001b[39mself\u001b[39;49m, method_name),\n\u001b[0;32m    741\u001b[0m         initial_response_ok\u001b[39m=\u001b[39;49minitial_response_ok)\n\u001b[0;32m    742\u001b[0m     \u001b[39m# 235 == 'Authentication successful'\u001b[39;00m\n\u001b[0;32m    743\u001b[0m     \u001b[39m# 503 == 'Error: already authenticated'\u001b[39;00m\n\u001b[0;32m    744\u001b[0m     \u001b[39mif\u001b[39;00m code \u001b[39min\u001b[39;00m (\u001b[39m235\u001b[39m, \u001b[39m503\u001b[39m):\n",
      "File \u001b[1;32mc:\\Users\\harsh\\AppData\\Local\\Programs\\Python\\Python310\\lib\\smtplib.py:662\u001b[0m, in \u001b[0;36mSMTP.auth\u001b[1;34m(self, mechanism, authobject, initial_response_ok)\u001b[0m\n\u001b[0;32m    660\u001b[0m \u001b[39mif\u001b[39;00m code \u001b[39min\u001b[39;00m (\u001b[39m235\u001b[39m, \u001b[39m503\u001b[39m):\n\u001b[0;32m    661\u001b[0m     \u001b[39mreturn\u001b[39;00m (code, resp)\n\u001b[1;32m--> 662\u001b[0m \u001b[39mraise\u001b[39;00m SMTPAuthenticationError(code, resp)\n",
      "\u001b[1;31mSMTPAuthenticationError\u001b[0m: (535, b'5.7.8 Username and Password not accepted. Learn more at\\n5.7.8  https://support.google.com/mail/?p=BadCredentials w5-20020aa79545000000b0053818255880sm3362410pfq.193 - gsmtp')"
     ]
    }
   ],
   "source": [
    "### AS OF 30th MAY 2022, LESS SECURE APPS OPTION IS REMOVED BUT APP PASSWORDS CAN BE GENERATED, THOUGH IT'S NOT WORKING FOR ME (idk)\n",
    "import smtplib\n",
    "import keys\n",
    "with smtplib.SMTP(\"smtp.gmail.com\") as connection: # establishing conncetion witn email providers\n",
    "    connection.starttls() # establishing secure connection\n",
    "\n",
    "    connection.login(user= keys.my_email, password= keys.my_password) # logged in as usual\n",
    "\n",
    "    connection.sendmail(\n",
    "        from_addr=keys.my_email,\n",
    "        to_addrs=keys.my_primary_email, \n",
    "        msg=\"Hello\\n\\nAutomated generated Email.\"\n",
    "        )"
   ]
  },
  {
   "cell_type": "markdown",
   "metadata": {},
   "source": [
    "### Datetime Module"
   ]
  },
  {
   "cell_type": "code",
   "execution_count": 25,
   "metadata": {},
   "outputs": [
    {
     "name": "stdout",
     "output_type": "stream",
     "text": [
      "2022\n"
     ]
    }
   ],
   "source": [
    "import datetime as dt\n",
    "\n",
    "now = dt.datetime.now() # showing current datetime\n",
    "print(now.year)"
   ]
  },
  {
   "cell_type": "code",
   "execution_count": 28,
   "metadata": {},
   "outputs": [
    {
     "name": "stdout",
     "output_type": "stream",
     "text": [
      "2002-05-15 23:00:00\n"
     ]
    }
   ],
   "source": [
    "date_of_birth = dt.datetime(year=2002, month=5, day=15, hour= 23) # making a datetime variable from scratch\n",
    "print(date_of_birth)"
   ]
  },
  {
   "cell_type": "markdown",
   "metadata": {},
   "source": [
    "#### Sending motivation Quotes"
   ]
  },
  {
   "cell_type": "code",
   "execution_count": 32,
   "metadata": {},
   "outputs": [
    {
     "name": "stdout",
     "output_type": "stream",
     "text": [
      "\"Shoot for the moon. Even if you miss, you'll land among the stars.\" - Brian Littrell\n",
      "\n"
     ]
    },
    {
     "ename": "SMTPAuthenticationError",
     "evalue": "(535, b'5.7.8 Username and Password not accepted. Learn more at\\n5.7.8  https://support.google.com/mail/?p=BadCredentials e7-20020a17090a4a0700b001fbbbe38387sm3545575pjh.10 - gsmtp')",
     "output_type": "error",
     "traceback": [
      "\u001b[1;31m---------------------------------------------------------------------------\u001b[0m",
      "\u001b[1;31mSMTPAuthenticationError\u001b[0m                   Traceback (most recent call last)",
      "\u001b[1;32mc:\\Users\\harsh\\Dropbox\\My PC (DESKTOP-5JVQ0UA)\\Desktop\\Python Development\\100 Days of Code\\Day 32.ipynb Cell 8\u001b[0m in \u001b[0;36m<cell line: 11>\u001b[1;34m()\u001b[0m\n\u001b[0;32m     <a href='vscode-notebook-cell:/c%3A/Users/harsh/Dropbox/My%20PC%20%28DESKTOP-5JVQ0UA%29/Desktop/Python%20Development/100%20Days%20of%20Code/Day%2032.ipynb#X12sZmlsZQ%3D%3D?line=16'>17</a>\u001b[0m \u001b[39mwith\u001b[39;00m smtplib\u001b[39m.\u001b[39mSMTP(\u001b[39m\"\u001b[39m\u001b[39msmtp.gmail.com\u001b[39m\u001b[39m\"\u001b[39m) \u001b[39mas\u001b[39;00m connection:\n\u001b[0;32m     <a href='vscode-notebook-cell:/c%3A/Users/harsh/Dropbox/My%20PC%20%28DESKTOP-5JVQ0UA%29/Desktop/Python%20Development/100%20Days%20of%20Code/Day%2032.ipynb#X12sZmlsZQ%3D%3D?line=17'>18</a>\u001b[0m     connection\u001b[39m.\u001b[39mstarttls()\n\u001b[1;32m---> <a href='vscode-notebook-cell:/c%3A/Users/harsh/Dropbox/My%20PC%20%28DESKTOP-5JVQ0UA%29/Desktop/Python%20Development/100%20Days%20of%20Code/Day%2032.ipynb#X12sZmlsZQ%3D%3D?line=18'>19</a>\u001b[0m     connection\u001b[39m.\u001b[39;49mlogin(MY_EMAIL, MY_PASSWORD)\n\u001b[0;32m     <a href='vscode-notebook-cell:/c%3A/Users/harsh/Dropbox/My%20PC%20%28DESKTOP-5JVQ0UA%29/Desktop/Python%20Development/100%20Days%20of%20Code/Day%2032.ipynb#X12sZmlsZQ%3D%3D?line=19'>20</a>\u001b[0m     connection\u001b[39m.\u001b[39msendmail(\n\u001b[0;32m     <a href='vscode-notebook-cell:/c%3A/Users/harsh/Dropbox/My%20PC%20%28DESKTOP-5JVQ0UA%29/Desktop/Python%20Development/100%20Days%20of%20Code/Day%2032.ipynb#X12sZmlsZQ%3D%3D?line=20'>21</a>\u001b[0m         from_addr\u001b[39m=\u001b[39mMY_EMAIL,\n\u001b[0;32m     <a href='vscode-notebook-cell:/c%3A/Users/harsh/Dropbox/My%20PC%20%28DESKTOP-5JVQ0UA%29/Desktop/Python%20Development/100%20Days%20of%20Code/Day%2032.ipynb#X12sZmlsZQ%3D%3D?line=21'>22</a>\u001b[0m         to_addrs\u001b[39m=\u001b[39mMY_EMAIL,\n\u001b[0;32m     <a href='vscode-notebook-cell:/c%3A/Users/harsh/Dropbox/My%20PC%20%28DESKTOP-5JVQ0UA%29/Desktop/Python%20Development/100%20Days%20of%20Code/Day%2032.ipynb#X12sZmlsZQ%3D%3D?line=22'>23</a>\u001b[0m         msg\u001b[39m=\u001b[39m\u001b[39mf\u001b[39m\u001b[39m\"\u001b[39m\u001b[39mSubject:Monday Motivation\u001b[39m\u001b[39m\\n\u001b[39;00m\u001b[39m\\n\u001b[39;00m\u001b[39m{\u001b[39;00mquote\u001b[39m}\u001b[39;00m\u001b[39m\"\u001b[39m\n\u001b[0;32m     <a href='vscode-notebook-cell:/c%3A/Users/harsh/Dropbox/My%20PC%20%28DESKTOP-5JVQ0UA%29/Desktop/Python%20Development/100%20Days%20of%20Code/Day%2032.ipynb#X12sZmlsZQ%3D%3D?line=23'>24</a>\u001b[0m     )\n",
      "File \u001b[1;32mc:\\Users\\harsh\\AppData\\Local\\Programs\\Python\\Python310\\lib\\smtplib.py:750\u001b[0m, in \u001b[0;36mSMTP.login\u001b[1;34m(self, user, password, initial_response_ok)\u001b[0m\n\u001b[0;32m    747\u001b[0m         last_exception \u001b[39m=\u001b[39m e\n\u001b[0;32m    749\u001b[0m \u001b[39m# We could not login successfully.  Return result of last attempt.\u001b[39;00m\n\u001b[1;32m--> 750\u001b[0m \u001b[39mraise\u001b[39;00m last_exception\n",
      "File \u001b[1;32mc:\\Users\\harsh\\AppData\\Local\\Programs\\Python\\Python310\\lib\\smtplib.py:739\u001b[0m, in \u001b[0;36mSMTP.login\u001b[1;34m(self, user, password, initial_response_ok)\u001b[0m\n\u001b[0;32m    737\u001b[0m method_name \u001b[39m=\u001b[39m \u001b[39m'\u001b[39m\u001b[39mauth_\u001b[39m\u001b[39m'\u001b[39m \u001b[39m+\u001b[39m authmethod\u001b[39m.\u001b[39mlower()\u001b[39m.\u001b[39mreplace(\u001b[39m'\u001b[39m\u001b[39m-\u001b[39m\u001b[39m'\u001b[39m, \u001b[39m'\u001b[39m\u001b[39m_\u001b[39m\u001b[39m'\u001b[39m)\n\u001b[0;32m    738\u001b[0m \u001b[39mtry\u001b[39;00m:\n\u001b[1;32m--> 739\u001b[0m     (code, resp) \u001b[39m=\u001b[39m \u001b[39mself\u001b[39;49m\u001b[39m.\u001b[39;49mauth(\n\u001b[0;32m    740\u001b[0m         authmethod, \u001b[39mgetattr\u001b[39;49m(\u001b[39mself\u001b[39;49m, method_name),\n\u001b[0;32m    741\u001b[0m         initial_response_ok\u001b[39m=\u001b[39;49minitial_response_ok)\n\u001b[0;32m    742\u001b[0m     \u001b[39m# 235 == 'Authentication successful'\u001b[39;00m\n\u001b[0;32m    743\u001b[0m     \u001b[39m# 503 == 'Error: already authenticated'\u001b[39;00m\n\u001b[0;32m    744\u001b[0m     \u001b[39mif\u001b[39;00m code \u001b[39min\u001b[39;00m (\u001b[39m235\u001b[39m, \u001b[39m503\u001b[39m):\n",
      "File \u001b[1;32mc:\\Users\\harsh\\AppData\\Local\\Programs\\Python\\Python310\\lib\\smtplib.py:662\u001b[0m, in \u001b[0;36mSMTP.auth\u001b[1;34m(self, mechanism, authobject, initial_response_ok)\u001b[0m\n\u001b[0;32m    660\u001b[0m \u001b[39mif\u001b[39;00m code \u001b[39min\u001b[39;00m (\u001b[39m235\u001b[39m, \u001b[39m503\u001b[39m):\n\u001b[0;32m    661\u001b[0m     \u001b[39mreturn\u001b[39;00m (code, resp)\n\u001b[1;32m--> 662\u001b[0m \u001b[39mraise\u001b[39;00m SMTPAuthenticationError(code, resp)\n",
      "\u001b[1;31mSMTPAuthenticationError\u001b[0m: (535, b'5.7.8 Username and Password not accepted. Learn more at\\n5.7.8  https://support.google.com/mail/?p=BadCredentials e7-20020a17090a4a0700b001fbbbe38387sm3545575pjh.10 - gsmtp')"
     ]
    }
   ],
   "source": [
    "#Monday Motivation Project\n",
    "import smtplib, keys\n",
    "import datetime as dt\n",
    "import random\n",
    "\n",
    "MY_EMAIL = keys.my_email\n",
    "MY_PASSWORD = keys.my_password\n",
    "\n",
    "now = dt.datetime.now()\n",
    "weekday = now.weekday()\n",
    "if weekday == 0: # Monday is 0\n",
    "    with open(\"quotes.txt\") as quote_file:\n",
    "        all_quotes = quote_file.readlines()\n",
    "        quote = random.choice(all_quotes)\n",
    "\n",
    "    print(quote)\n",
    "    with smtplib.SMTP(\"smtp.gmail.com\") as connection:\n",
    "        connection.starttls()\n",
    "        connection.login(MY_EMAIL, MY_PASSWORD)\n",
    "        connection.sendmail(\n",
    "            from_addr=MY_EMAIL,\n",
    "            to_addrs=MY_EMAIL,\n",
    "            msg=f\"Subject:Monday Motivation\\n\\n{quote}\"\n",
    "        )"
   ]
  },
  {
   "cell_type": "markdown",
   "metadata": {},
   "source": [
    "#### Automated Birthday Wisher"
   ]
  },
  {
   "cell_type": "code",
   "execution_count": null,
   "metadata": {},
   "outputs": [],
   "source": [
    "#To run and test the code you need to update 4 places:\n",
    "# 1. Change MY_EMAIL/MY_PASSWORD to your own details.\n",
    "# 2. Go to your email provider and make it allow less secure apps.\n",
    "# 3. Update the SMTP ADDRESS to match your email provider.\n",
    "# 4. Update birthdays.csv to contain today's month and day.\n",
    "# See the solution video in the 100 Days of Python Course for explainations.\n",
    "\n",
    "from datetime import datetime\n",
    "import pandas\n",
    "import random\n",
    "import smtplib, keys\n",
    "\n",
    "MY_EMAIL = keys.my_email\n",
    "MY_PASSWORD = keys.my_password\n",
    "\n",
    "today = datetime.now()\n",
    "today_tuple = (today.month, today.day)\n",
    "\n",
    "data = pandas.read_csv(\"birthdays.csv\")\n",
    "birthdays_dict = {(data_row[\"month\"], data_row[\"day\"]): data_row for (index, data_row) in data.iterrows()}\n",
    "\n",
    "if today_tuple in birthdays_dict:\n",
    "    birthday_person = birthdays_dict[today_tuple]\n",
    "    file_path = f\"letter_{random.randint(1,3)}.txt\"\n",
    "    with open(file_path) as letter_file: \n",
    "        contents = letter_file.read()\n",
    "        contents = contents.replace(\"[NAME]\", birthday_person[\"name\"])\n",
    "\n",
    "    with smtplib.SMTP(\"smtp.gmail.com\") as connection:\n",
    "        connection.starttls()\n",
    "        connection.login(MY_EMAIL, MY_PASSWORD)\n",
    "        connection.sendmail(\n",
    "            from_addr=MY_EMAIL,\n",
    "            to_addrs=birthday_person[\"email\"],\n",
    "            msg=f\"Subject:Happy Birthday!\\n\\n{contents}\"\n",
    "        )"
   ]
  },
  {
   "cell_type": "markdown",
   "metadata": {},
   "source": [
    "#### Hosting Code in Cloud\n",
    "- Website: https://www.pythonanywhere.com/\n",
    "- Add Code into Files Section\n",
    "- Unlock Captcha of Google\n"
   ]
  }
 ],
 "metadata": {
  "kernelspec": {
   "display_name": "Python 3.10.5 64-bit",
   "language": "python",
   "name": "python3"
  },
  "language_info": {
   "codemirror_mode": {
    "name": "ipython",
    "version": 3
   },
   "file_extension": ".py",
   "mimetype": "text/x-python",
   "name": "python",
   "nbconvert_exporter": "python",
   "pygments_lexer": "ipython3",
   "version": "3.10.5"
  },
  "orig_nbformat": 4,
  "vscode": {
   "interpreter": {
    "hash": "e8899eb02dfbc033aab5733bdae1bd213fa031d40331094008e8673d99ebab63"
   }
  }
 },
 "nbformat": 4,
 "nbformat_minor": 2
}
