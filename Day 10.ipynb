{
 "cells": [
  {
   "cell_type": "markdown",
   "metadata": {},
   "source": [
    "### Functions with Outputs"
   ]
  },
  {
   "cell_type": "code",
   "execution_count": 2,
   "metadata": {},
   "outputs": [
    {
     "data": {
      "text/plain": [
       "15"
      ]
     },
     "execution_count": 2,
     "metadata": {},
     "output_type": "execute_result"
    }
   ],
   "source": [
    "def outer(a,b):\n",
    "    def inner(c,d):\n",
    "        return c+d\n",
    "    return inner(a,b)\n",
    "\n",
    "outer(5,10)"
   ]
  },
  {
   "cell_type": "markdown",
   "metadata": {},
   "source": [
    "#### Calculator"
   ]
  },
  {
   "cell_type": "code",
   "execution_count": 5,
   "metadata": {},
   "outputs": [
    {
     "name": "stdout",
     "output_type": "stream",
     "text": [
      "\n",
      " _____________________\n",
      "|  _________________  |\n",
      "| | Pythonista   0. | |  .----------------.  .----------------.  .----------------.  .----------------. \n",
      "| |_________________| | | .--------------. || .--------------. || .--------------. || .--------------. |\n",
      "|  ___ ___ ___   ___  | | |     ______   | || |      __      | || |   _____      | || |     ______   | |\n",
      "| | 7 | 8 | 9 | | + | | | |   .' ___  |  | || |     /  \\     | || |  |_   _|     | || |   .' ___  |  | |\n",
      "| |___|___|___| |___| | | |  / .'   \\_|  | || |    / /\\ \\    | || |    | |       | || |  / .'   \\_|  | |\n",
      "| | 4 | 5 | 6 | | - | | | |  | |         | || |   / ____ \\   | || |    | |   _   | || |  | |         | |\n",
      "| |___|___|___| |___| | | |  \\ `.___.'\\  | || | _/ /    \\ \\_ | || |   _| |__/ |  | || |  \\ `.___.'\\  | |\n",
      "| | 1 | 2 | 3 | | x | | | |   `._____.'  | || ||____|  |____|| || |  |________|  | || |   `._____.'  | |\n",
      "| |___|___|___| |___| | | |              | || |              | || |              | || |              | |\n",
      "| | . | 0 | = | | / | | | '--------------' || '--------------' || '--------------' || '--------------' |\n",
      "| |___|___|___| |___| |  '----------------'  '----------------'  '----------------'  '----------------' \n",
      "|_____________________|\n",
      "\n",
      "+\n",
      "-\n",
      "*\n",
      "/\n",
      "23.0 * 21.0 = 483.0\n",
      "+\n",
      "-\n",
      "*\n",
      "/\n",
      "483.0 / 23.0 = 21.0\n",
      "+\n",
      "-\n",
      "*\n",
      "/\n",
      "21.0 * 5.543 = 116.4\n",
      "+\n",
      "-\n",
      "*\n",
      "/\n",
      "116.4 * 5.71 = 664.64\n",
      "Good Bye!\n"
     ]
    }
   ],
   "source": [
    "from art import calc\n",
    "from replit import clear \n",
    "\n",
    "\n",
    "def add(a,b):\n",
    "    return a+b\n",
    "\n",
    "def multiply(a,b):\n",
    "    return round(a*b, 2)\n",
    "\n",
    "def subtract(a,b):\n",
    "    return a-b\n",
    "\n",
    "def divide(a,b):\n",
    "    return round(a/b, 2)\n",
    "\n",
    "operations = {\n",
    "    '+': add, \n",
    "    '-': subtract, \n",
    "    '*': multiply, \n",
    "    '/':divide,\n",
    "    }\n",
    "\n",
    "def calculator():\n",
    "    restart = True\n",
    "    print(calc)\n",
    "    a = float(input(\"What's the first number? \"))\n",
    "\n",
    "    while restart:\n",
    "        print('\\n'.join([x for x in operations]))\n",
    "        operator = input(\"Pick an operation: \")\n",
    "        b = float(input(\"What's the next number? \"))\n",
    "\n",
    "        function = operations[operator]\n",
    "        answer = function(a,b)\n",
    "\n",
    "        print(f\"{a} {operator} {b} = {answer}\")\n",
    "\n",
    "        choice = input(f\"Type 'y' to continue with {answer}, or type 'n' to start a new calculation, or type 'e' to exit: \")\n",
    "        if choice.lower()[0] == 'y':\n",
    "            a = answer\n",
    "\n",
    "        elif choice.lower()[0] == 'n':\n",
    "            restart = False\n",
    "            clear()\n",
    "            calculator() # recursion here\n",
    "\n",
    "        else:\n",
    "            print(\"Good Bye!\")\n",
    "            return\n",
    "\n",
    "calculator()"
   ]
  }
 ],
 "metadata": {
  "kernelspec": {
   "display_name": "Python 3.10.5 64-bit",
   "language": "python",
   "name": "python3"
  },
  "language_info": {
   "codemirror_mode": {
    "name": "ipython",
    "version": 3
   },
   "file_extension": ".py",
   "mimetype": "text/x-python",
   "name": "python",
   "nbconvert_exporter": "python",
   "pygments_lexer": "ipython3",
   "version": "3.10.5"
  },
  "orig_nbformat": 4,
  "vscode": {
   "interpreter": {
    "hash": "e8899eb02dfbc033aab5733bdae1bd213fa031d40331094008e8673d99ebab63"
   }
  }
 },
 "nbformat": 4,
 "nbformat_minor": 2
}
