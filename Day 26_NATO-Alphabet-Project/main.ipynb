{
 "cells": [
  {
   "cell_type": "markdown",
   "metadata": {},
   "source": [
    "### NATO Alphabet Project"
   ]
  },
  {
   "cell_type": "code",
   "execution_count": 4,
   "metadata": {},
   "outputs": [
    {
     "name": "stdout",
     "output_type": "stream",
     "text": [
      "Enter letters in the Alphabet only!\n",
      "Enter letters in the Alphabet only!\n",
      "['Foxtrot', 'India', 'Sierra', 'Hotel']\n"
     ]
    }
   ],
   "source": [
    "import pandas\n",
    "\n",
    "df = pandas.read_csv('nato_phonetic_alphabet.csv')\n",
    "\n",
    "NATO_ALPHA = {row.letter: row.code for (index, row) in df.iterrows()} # hard to understand kinda\n",
    "\n",
    "ok = True\n",
    "while ok:\n",
    "    word = input('Enter a Word: ').upper()\n",
    "\n",
    "    try:        # Added Exception Handling Blocks\n",
    "        print([NATO_ALPHA[i] for i in word])\n",
    "        ok = False\n",
    "\n",
    "    except KeyError:\n",
    "        print(\"Enter letters in the Alphabet only!\")\n"
   ]
  }
 ],
 "metadata": {
  "kernelspec": {
   "display_name": "Python 3.10.5 64-bit",
   "language": "python",
   "name": "python3"
  },
  "language_info": {
   "codemirror_mode": {
    "name": "ipython",
    "version": 3
   },
   "file_extension": ".py",
   "mimetype": "text/x-python",
   "name": "python",
   "nbconvert_exporter": "python",
   "pygments_lexer": "ipython3",
   "version": "3.10.5"
  },
  "orig_nbformat": 4,
  "vscode": {
   "interpreter": {
    "hash": "e8899eb02dfbc033aab5733bdae1bd213fa031d40331094008e8673d99ebab63"
   }
  }
 },
 "nbformat": 4,
 "nbformat_minor": 2
}
