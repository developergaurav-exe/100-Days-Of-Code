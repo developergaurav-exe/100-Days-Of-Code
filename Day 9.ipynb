{
 "cells": [
  {
   "cell_type": "markdown",
   "metadata": {},
   "source": [
    "### Dictionaries and nesting"
   ]
  },
  {
   "cell_type": "code",
   "execution_count": 1,
   "metadata": {},
   "outputs": [],
   "source": [
    "'''\n",
    "Properly formatted dictionary\n",
    "'''\n",
    "d = {\n",
    "  'bug': 'errors',\n",
    "  'function': 'user-defined',\n",
    "  'kite': \"I don't know how to fly\",\n",
    "}"
   ]
  },
  {
   "cell_type": "markdown",
   "metadata": {},
   "source": [
    "#### Can dynamically create dictionary in this manner"
   ]
  },
  {
   "cell_type": "code",
   "execution_count": 4,
   "metadata": {},
   "outputs": [],
   "source": [
    "d = {}"
   ]
  },
  {
   "cell_type": "code",
   "execution_count": 7,
   "metadata": {},
   "outputs": [
    {
     "name": "stdout",
     "output_type": "stream",
     "text": [
      "{'hello': 'hello', 'nigg': 'nigg', 'wow': 'wow'}\n"
     ]
    }
   ],
   "source": [
    "choice = input('Enter Key')\n",
    "\n",
    "\n",
    "d[f'{choice}'] = f\"{choice}\"\n",
    "\n",
    "print(d)"
   ]
  },
  {
   "cell_type": "markdown",
   "metadata": {},
   "source": [
    "##### Nested Dictionaries"
   ]
  },
  {
   "cell_type": "code",
   "execution_count": 19,
   "metadata": {},
   "outputs": [],
   "source": [
    "travel_log = {\n",
    "\n",
    "    'France': {\n",
    "        'Paris': 2, \n",
    "        'Lillie': 3, \n",
    "        'Dijjon': 1\n",
    "        },\n",
    "\n",
    "    'Germany': {\n",
    "        'Berlin': 3, \n",
    "        'Hamburg': 2, \n",
    "        'Stuttgart': 1\n",
    "        },\n",
    "}"
   ]
  },
  {
   "cell_type": "code",
   "execution_count": 20,
   "metadata": {},
   "outputs": [
    {
     "data": {
      "text/plain": [
       "2"
      ]
     },
     "execution_count": 20,
     "metadata": {},
     "output_type": "execute_result"
    }
   ],
   "source": [
    "travel_log['France']['Paris']"
   ]
  },
  {
   "cell_type": "markdown",
   "metadata": {},
   "source": [
    "#### Secret Auction Program"
   ]
  },
  {
   "cell_type": "code",
   "execution_count": 32,
   "metadata": {},
   "outputs": [
    {
     "name": "stdout",
     "output_type": "stream",
     "text": [
      "\n",
      "                         ___________\n",
      "                         \\         /\n",
      "                          )_______(\n",
      "                          |\"\"\"\"\"\"\"|_.-._,.---------.,_.-._\n",
      "                          |       | | |               | | ''-.\n",
      "                          |       |_| |_             _| |_..-'\n",
      "                          |_______| '-' `'---------'` '-'\n",
      "                          )\"\"\"\"\"\"\"(\n",
      "                         /_________\\\n",
      "                       .-------------.\n",
      "                      /_______________\\\n",
      "\n",
      "Welcome to the Secret Auction Program!\n",
      "\u001b[H\u001b[2J\u001b[H\u001b[2JThe winner is Harsh with a bid of $234.\n"
     ]
    }
   ],
   "source": [
    "from replit import clear\n",
    "import art\n",
    "print(art.auction_logo)\n",
    "print(\"Welcome to the Secret Auction Program!\")\n",
    "\n",
    "contestents = {}\n",
    "\n",
    "restart = True\n",
    "while restart:\n",
    "    name = input('What is your Name?')\n",
    "    bid = int(input(\"What's your Bid? $\"))\n",
    "\n",
    "    contestents[name] = bid # I was confused on how to add a new entry to dictionary. Probably because of tiredness\n",
    "\n",
    "    choice = input(\"Are there any other Bidders? y/n\")\n",
    "    clear()\n",
    "\n",
    "    if choice.lower() == 'n':\n",
    "        max = 0\n",
    "        name = ''\n",
    "        for i in contestents:\n",
    "            if max < contestents[i]:\n",
    "                max = contestents[i]\n",
    "                name = i\n",
    "\n",
    "        print(f\"The winner is {name} with a bid of ${max}.\")\n",
    "        restart = False"
   ]
  }
 ],
 "metadata": {
  "kernelspec": {
   "display_name": "Python 3.10.5 64-bit",
   "language": "python",
   "name": "python3"
  },
  "language_info": {
   "codemirror_mode": {
    "name": "ipython",
    "version": 3
   },
   "file_extension": ".py",
   "mimetype": "text/x-python",
   "name": "python",
   "nbconvert_exporter": "python",
   "pygments_lexer": "ipython3",
   "version": "3.10.5"
  },
  "orig_nbformat": 4,
  "vscode": {
   "interpreter": {
    "hash": "e8899eb02dfbc033aab5733bdae1bd213fa031d40331094008e8673d99ebab63"
   }
  }
 },
 "nbformat": 4,
 "nbformat_minor": 2
}
