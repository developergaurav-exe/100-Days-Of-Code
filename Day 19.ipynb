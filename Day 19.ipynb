{
 "cells": [
  {
   "cell_type": "markdown",
   "metadata": {},
   "source": [
    "### More Turtle Graphics, Event Listeners, State and Multiple Instances"
   ]
  },
  {
   "cell_type": "code",
   "execution_count": 2,
   "metadata": {},
   "outputs": [],
   "source": [
    "from turtle import Turtle, Screen\n",
    "\n",
    "t = Turtle()\n",
    "screen = Screen()\n",
    "\n",
    "def forwards():\n",
    "    t.forward(10)\n",
    "\n",
    "screen.listen()\n",
    "screen.onkey(key=\"space\", fun=forwards)\n",
    "screen.exitonclick()"
   ]
  },
  {
   "cell_type": "code",
   "execution_count": 8,
   "metadata": {},
   "outputs": [
    {
     "data": {
      "text/plain": [
       "3"
      ]
     },
     "execution_count": 8,
     "metadata": {},
     "output_type": "execute_result"
    }
   ],
   "source": [
    "def fun(a, func): # higher order function\n",
    "    return func(a)\n",
    "\n",
    "fun(2, lambda x:x+1) # lambda not taught till now but I knew shortcut to create anonymous functions so I used it"
   ]
  },
  {
   "cell_type": "markdown",
   "metadata": {},
   "source": [
    "#### Etch-a-Sketch"
   ]
  },
  {
   "cell_type": "code",
   "execution_count": 1,
   "metadata": {},
   "outputs": [],
   "source": [
    "'''\n",
    "W = Forwards\n",
    "S = Backwards\n",
    "A = Clockwise\n",
    "D = counter - clockwise\n",
    "C = Clear drawing\n",
    "'''\n",
    "\n",
    "from turtle import Turtle, Screen, clear, clearscreen, reset, right\n",
    "\n",
    "t = Turtle()\n",
    "screen = Screen()\n",
    "\n",
    "def forwards():\n",
    "    t.forward(20)\n",
    "\n",
    "def backwards():\n",
    "    t.backward(20)\n",
    "\n",
    "def clock():\n",
    "    t.left(10)\n",
    "\n",
    "def cclock():\n",
    "    t.right(10)\n",
    "\n",
    "def clear_drawing():\n",
    "    t.penup()\n",
    "    t.home()\n",
    "    t.reset()\n",
    "\n",
    "screen.listen()\n",
    "\n",
    "screen.onkey(key=\"w\", fun=forwards)\n",
    "screen.onkey(key=\"s\", fun=backwards)\n",
    "screen.onkey(key=\"a\", fun=clock)\n",
    "screen.onkey(key=\"d\", fun=cclock)\n",
    "screen.onkey(key=\"c\", fun=clear_drawing)\n",
    "\n",
    "screen.exitonclick()"
   ]
  },
  {
   "cell_type": "markdown",
   "metadata": {},
   "source": [
    "#### Turtle Race bidding"
   ]
  },
  {
   "cell_type": "code",
   "execution_count": 1,
   "metadata": {},
   "outputs": [
    {
     "name": "stdout",
     "output_type": "stream",
     "text": [
      "You've Lost! Orange turtle is the winner!\n"
     ]
    }
   ],
   "source": [
    "from turtle import Turtle, Screen, turtles\n",
    "import random\n",
    "colors = ['red', 'orange', 'yellow', 'green', 'blue', 'purple']\n",
    "race = False\n",
    "screen = Screen()\n",
    "screen.setup(height=400, width=500)\n",
    "\n",
    "choice = screen.textinput(title=\"Make your bet!\", prompt=\"Which turtle will win the race?\")\n",
    "\n",
    "turtles = []\n",
    "\n",
    "t = Turtle()\n",
    "y = -100\n",
    "for i in range(6):\n",
    "    t = Turtle('turtle') # doesn't matter if same name because we have a track in list\n",
    "    t.color(colors[i])\n",
    "    t.penup()\n",
    "    t.goto(x=-230, y=y)\n",
    "    turtles.append(t)\n",
    "    y += 30\n",
    "\n",
    "if choice:\n",
    "    race = True\n",
    "\n",
    "while race:\n",
    "    for t in turtles:\n",
    "        if t.xcor() > 230: # 250 - (40/2) because 20 is the half of the width of the turtle\n",
    "            race = False\n",
    "            if t.pencolor()[0] == choice.lower()[0]:\n",
    "                print(f\"You've Won! {t.pencolor().capitalize()} turtle is the winner!\")\n",
    "            else:\n",
    "                print(f\"You've Lost! {t.pencolor().capitalize()} turtle is the winner!\")\n",
    "\n",
    "        t.forward(random.randint(0,10))\n",
    "\n",
    "screen.exitonclick()"
   ]
  },
  {
   "cell_type": "code",
   "execution_count": null,
   "metadata": {},
   "outputs": [],
   "source": [
    "\"\"\"\n",
    "TURTLE COORDINATE SYSTEM (h = 400, w = 500)\n",
    "        200\n",
    "        |\n",
    "        |\n",
    "-250----0,0------ 250\n",
    "        |\n",
    "        |\n",
    "        -200\n",
    "\"\"\""
   ]
  }
 ],
 "metadata": {
  "kernelspec": {
   "display_name": "Python 3.10.5 64-bit",
   "language": "python",
   "name": "python3"
  },
  "language_info": {
   "codemirror_mode": {
    "name": "ipython",
    "version": 3
   },
   "file_extension": ".py",
   "mimetype": "text/x-python",
   "name": "python",
   "nbconvert_exporter": "python",
   "pygments_lexer": "ipython3",
   "version": "3.10.5"
  },
  "orig_nbformat": 4,
  "vscode": {
   "interpreter": {
    "hash": "e8899eb02dfbc033aab5733bdae1bd213fa031d40331094008e8673d99ebab63"
   }
  }
 },
 "nbformat": 4,
 "nbformat_minor": 2
}
