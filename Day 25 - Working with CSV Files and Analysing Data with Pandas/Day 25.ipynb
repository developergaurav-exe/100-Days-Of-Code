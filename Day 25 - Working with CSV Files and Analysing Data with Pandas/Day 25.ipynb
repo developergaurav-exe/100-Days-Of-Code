{
 "cells": [
  {
   "cell_type": "markdown",
   "metadata": {},
   "source": [
    "### Working with CSV Files and Analysing Data with Pandas"
   ]
  },
  {
   "cell_type": "code",
   "execution_count": 9,
   "metadata": {},
   "outputs": [
    {
     "data": {
      "text/plain": [
       "['day,temp,condition',\n",
       " 'Monday,12,Sunny',\n",
       " 'Tuesday,14,Rain',\n",
       " 'Wednesday,15,Rain',\n",
       " 'Thursday,14,Cloudy',\n",
       " 'Friday,21,Sunny',\n",
       " 'Saturday,22,Sunny',\n",
       " 'Sunday,24,Sunny']"
      ]
     },
     "execution_count": 9,
     "metadata": {},
     "output_type": "execute_result"
    }
   ],
   "source": [
    "with open('weather_data.csv') as f:\n",
    "    l = f.read().split()\n",
    "l"
   ]
  },
  {
   "cell_type": "markdown",
   "metadata": {},
   "source": [
    "##### import csv for Reading Comma Seperated Values File"
   ]
  },
  {
   "cell_type": "code",
   "execution_count": 20,
   "metadata": {},
   "outputs": [
    {
     "data": {
      "text/plain": [
       "[12, 14, 15, 14, 21, 22, 24]"
      ]
     },
     "execution_count": 20,
     "metadata": {},
     "output_type": "execute_result"
    }
   ],
   "source": [
    "import csv\n",
    "with open('weather_data.csv') as f:\n",
    "    temperatures = []\n",
    "    data = csv.reader(f)\n",
    "    for row in data: # csv reader creates csv_reader object which can be looped through it\n",
    "        if row[1] != 'temp':\n",
    "            temperatures.append(int(row[1]))\n",
    "\n",
    "temperatures"
   ]
  },
  {
   "cell_type": "markdown",
   "metadata": {},
   "source": [
    "##### pandas to read csv files which is more easier "
   ]
  },
  {
   "cell_type": "code",
   "execution_count": 23,
   "metadata": {},
   "outputs": [
    {
     "name": "stdout",
     "output_type": "stream",
     "text": [
      "         day  temp condition\n",
      "0     Monday    12     Sunny\n",
      "1    Tuesday    14      Rain\n",
      "2  Wednesday    15      Rain\n",
      "3   Thursday    14    Cloudy\n",
      "4     Friday    21     Sunny\n",
      "5   Saturday    22     Sunny\n",
      "6     Sunday    24     Sunny \n",
      "\n",
      "\n",
      "0    12\n",
      "1    14\n",
      "2    15\n",
      "3    14\n",
      "4    21\n",
      "5    22\n",
      "6    24\n",
      "Name: temp, dtype: int64\n"
     ]
    }
   ],
   "source": [
    "import pandas\n",
    "data = pandas.read_csv('weather_data.csv')\n",
    "print(data,'\\n\\n')\n",
    "print(data['temp'])"
   ]
  },
  {
   "cell_type": "markdown",
   "metadata": {},
   "source": [
    "##### Data Frame vs Data Series\n",
    "Data Frame is the like a frame of a whole database and Data Series is a list of a particular column in that database"
   ]
  },
  {
   "cell_type": "code",
   "execution_count": 24,
   "metadata": {},
   "outputs": [
    {
     "data": {
      "text/plain": [
       "{'day': {0: 'Monday',\n",
       "  1: 'Tuesday',\n",
       "  2: 'Wednesday',\n",
       "  3: 'Thursday',\n",
       "  4: 'Friday',\n",
       "  5: 'Saturday',\n",
       "  6: 'Sunday'},\n",
       " 'temp': {0: 12, 1: 14, 2: 15, 3: 14, 4: 21, 5: 22, 6: 24},\n",
       " 'condition': {0: 'Sunny',\n",
       "  1: 'Rain',\n",
       "  2: 'Rain',\n",
       "  3: 'Cloudy',\n",
       "  4: 'Sunny',\n",
       "  5: 'Sunny',\n",
       "  6: 'Sunny'}}"
      ]
     },
     "execution_count": 24,
     "metadata": {},
     "output_type": "execute_result"
    }
   ],
   "source": [
    "data.to_dict()"
   ]
  },
  {
   "cell_type": "markdown",
   "metadata": {},
   "source": [
    "##### Calculations on temperature from the Csv file"
   ]
  },
  {
   "cell_type": "code",
   "execution_count": 39,
   "metadata": {},
   "outputs": [
    {
     "name": "stdout",
     "output_type": "stream",
     "text": [
      "17.43\n",
      "17.43 \n",
      "\n",
      "24\n"
     ]
    },
    {
     "data": {
      "text/plain": [
       "(0     Sunny\n",
       " 1      Rain\n",
       " 2      Rain\n",
       " 3    Cloudy\n",
       " 4     Sunny\n",
       " 5     Sunny\n",
       " 6     Sunny\n",
       " Name: condition, dtype: object,\n",
       " 0     Sunny\n",
       " 1      Rain\n",
       " 2      Rain\n",
       " 3    Cloudy\n",
       " 4     Sunny\n",
       " 5     Sunny\n",
       " 6     Sunny\n",
       " Name: condition, dtype: object)"
      ]
     },
     "execution_count": 39,
     "metadata": {},
     "output_type": "execute_result"
    }
   ],
   "source": [
    "from statistics import mean\n",
    "data = pandas.read_csv('weather_data.csv')\n",
    "\n",
    "print(round(mean(data['temp'].to_list()), 2)) # converting to list and importing mean to find average\n",
    "\n",
    "print(round(data['temp'].mean(), 2),'\\n') # does the same job\n",
    "\n",
    "'''Maximum of Column'''\n",
    "print(data['temp'].max())\n",
    "\n",
    "'''Get Data from Columns'''\n",
    "data['condition'], data.condition # can be treated as dictionary or an attribute \n"
   ]
  },
  {
   "cell_type": "code",
   "execution_count": 42,
   "metadata": {},
   "outputs": [
    {
     "name": "stdout",
     "output_type": "stream",
     "text": [
      "      day  temp condition\n",
      "0  Monday    12     Sunny\n"
     ]
    }
   ],
   "source": [
    "'''Getting Row'''\n",
    "print(data[data.day == 'Monday'])"
   ]
  },
  {
   "cell_type": "code",
   "execution_count": 44,
   "metadata": {},
   "outputs": [
    {
     "name": "stdout",
     "output_type": "stream",
     "text": [
      "      day  temp condition\n",
      "6  Sunday    24     Sunny\n"
     ]
    }
   ],
   "source": [
    "'''Row with max temp'''\n",
    "print(data[data.temp == data.temp.max()])"
   ]
  },
  {
   "cell_type": "code",
   "execution_count": 51,
   "metadata": {},
   "outputs": [
    {
     "data": {
      "text/plain": [
       "53.6"
      ]
     },
     "execution_count": 51,
     "metadata": {},
     "output_type": "execute_result"
    }
   ],
   "source": [
    "'''Monday's Temp to Fahrenheit'''\n",
    "(int(data[data.day == 'Monday'].temp) * 9)/5 + 32 "
   ]
  },
  {
   "cell_type": "code",
   "execution_count": 53,
   "metadata": {},
   "outputs": [
    {
     "name": "stdout",
     "output_type": "stream",
     "text": [
      "  students  scores\n",
      "0    Harsh      45\n",
      "1   Gaurav      56\n",
      "2    Kumar      67\n"
     ]
    }
   ],
   "source": [
    "'''Create dataframe from scratch'''\n",
    "data_dict = {\n",
    "    'students': ['Harsh', 'Gaurav', 'Kumar'],\n",
    "    'scores': [45,56,67]\n",
    "}\n",
    "\n",
    "data = pandas.DataFrame(data_dict)\n",
    "print(data)"
   ]
  },
  {
   "cell_type": "code",
   "execution_count": 54,
   "metadata": {},
   "outputs": [],
   "source": [
    "'''saving csv to a new file'''\n",
    "data.to_csv('student_scores.csv')"
   ]
  },
  {
   "cell_type": "markdown",
   "metadata": {},
   "source": [
    "#### Analysing Squirrel Data with Pandas"
   ]
  },
  {
   "cell_type": "code",
   "execution_count": 5,
   "metadata": {},
   "outputs": [
    {
     "data": {
      "text/plain": [
       "array([nan, 'Gray', 'Cinnamon', 'Black'], dtype=object)"
      ]
     },
     "execution_count": 5,
     "metadata": {},
     "output_type": "execute_result"
    }
   ],
   "source": [
    "import pandas\n",
    "\n",
    "data = pandas.read_csv('2018_Central_Park_Squirrel_Census_-_Squirrel_Data.csv')\n",
    "data['Primary Fur Color'].unique() # Three colors of squirrels present"
   ]
  },
  {
   "cell_type": "code",
   "execution_count": 21,
   "metadata": {},
   "outputs": [],
   "source": [
    "data_dict = {\n",
    "    'Fur Color': ['Gray', 'Cinnamon', 'Black'], \n",
    "    'Count': [len(data[data['Primary Fur Color'] == 'Gray']), len(data[data['Primary Fur Color'] == 'Cinnamon']), len(data[data['Primary Fur Color'] == 'Black'])]\n",
    "}\n",
    "\n",
    "df = pandas.DataFrame(data_dict)\n",
    "df.to_csv('squirrel_count.csv')"
   ]
  }
 ],
 "metadata": {
  "kernelspec": {
   "display_name": "Python 3.10.5 64-bit",
   "language": "python",
   "name": "python3"
  },
  "language_info": {
   "codemirror_mode": {
    "name": "ipython",
    "version": 3
   },
   "file_extension": ".py",
   "mimetype": "text/x-python",
   "name": "python",
   "nbconvert_exporter": "python",
   "pygments_lexer": "ipython3",
   "version": "3.10.5"
  },
  "orig_nbformat": 4,
  "vscode": {
   "interpreter": {
    "hash": "e8899eb02dfbc033aab5733bdae1bd213fa031d40331094008e8673d99ebab63"
   }
  }
 },
 "nbformat": 4,
 "nbformat_minor": 2
}
