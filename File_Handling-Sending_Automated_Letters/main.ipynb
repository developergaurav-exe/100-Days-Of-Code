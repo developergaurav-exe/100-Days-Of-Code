{
 "cells": [
  {
   "cell_type": "code",
   "execution_count": null,
   "metadata": {},
   "outputs": [],
   "source": [
    "#TODO: Create a letter using starting_letter.txt \n",
    "#for each name in invited_names.txt\n",
    "#Replace the [name] placeholder with the actual name.\n",
    "#Save the letters in the folder \"ReadyToSend\".\n",
    "    \n",
    "#Hint1: This method will help you: https://www.w3schools.com/python/ref_file_readlines.asp\n",
    "    #Hint2: This method will also help you: https://www.w3schools.com/python/ref_string_replace.asp\n",
    "        #Hint3: THis method will help you: https://www.w3schools.com/python/ref_string_strip.asp"
   ]
  },
  {
   "cell_type": "code",
   "execution_count": 11,
   "metadata": {},
   "outputs": [
    {
     "data": {
      "text/plain": [
       "['Aang', 'Zuko', 'Appa', 'Katara', 'Sokka', 'Momo', 'Uncle Iroh', 'Toph']"
      ]
     },
     "execution_count": 11,
     "metadata": {},
     "output_type": "execute_result"
    }
   ],
   "source": [
    "with open('Input/Names/invited_names.txt') as f:\n",
    "    names = f.read().split('\\n')\n",
    "\n",
    "names"
   ]
  },
  {
   "cell_type": "code",
   "execution_count": 5,
   "metadata": {},
   "outputs": [],
   "source": [
    "with open('Input/Letters/starting_letter.txt') as f:\n",
    "    letter = f.read()"
   ]
  },
  {
   "cell_type": "code",
   "execution_count": 12,
   "metadata": {},
   "outputs": [],
   "source": [
    "for name in names:\n",
    "    with open(f'letter to {name}.txt', mode='w') as f:\n",
    "        f.write(letter.replace('[name]', name))"
   ]
  }
 ],
 "metadata": {
  "kernelspec": {
   "display_name": "Python 3.10.5 64-bit",
   "language": "python",
   "name": "python3"
  },
  "language_info": {
   "codemirror_mode": {
    "name": "ipython",
    "version": 3
   },
   "file_extension": ".py",
   "mimetype": "text/x-python",
   "name": "python",
   "nbconvert_exporter": "python",
   "pygments_lexer": "ipython3",
   "version": "3.10.5"
  },
  "orig_nbformat": 4,
  "vscode": {
   "interpreter": {
    "hash": "e8899eb02dfbc033aab5733bdae1bd213fa031d40331094008e8673d99ebab63"
   }
  }
 },
 "nbformat": 4,
 "nbformat_minor": 2
}
