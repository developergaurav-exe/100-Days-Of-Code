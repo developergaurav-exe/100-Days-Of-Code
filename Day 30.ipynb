{
 "cells": [
  {
   "cell_type": "markdown",
   "metadata": {},
   "source": [
    "### Errors, Exceptions and Saving JSON Data\n"
   ]
  },
  {
   "cell_type": "code",
   "execution_count": null,
   "metadata": {},
   "outputs": [],
   "source": [
    "#Exception Handling\n",
    "\n",
    "try:        # Could cause an exception\n",
    "    file = open(\"a_file.txt\")\n",
    "    a_dictionary = {\"key\": \"value\"}\n",
    "    print(a_dictionary[\"key\"])\n",
    "\n",
    "except FileNotFoundError:       # There can be multiple exceptions\n",
    "    file = open(\"a_file.txt\", \"w\")\n",
    "    file.write(\"Something\")\n",
    "\n",
    "except KeyError as error_message:\n",
    "    print(f\"The key {error_message} does not exist.\")\n",
    "\n",
    "else:           # This block will run whenever try block runs successfully\n",
    "    content = file.read()\n",
    "    print(content)\n",
    "\n",
    "finally:         # Will Run no matter what\n",
    "    raise TypeError(\"This is an error that I made up.\")"
   ]
  },
  {
   "cell_type": "markdown",
   "metadata": {},
   "source": [
    "#### BMI Height Exception"
   ]
  },
  {
   "cell_type": "code",
   "execution_count": 2,
   "metadata": {},
   "outputs": [
    {
     "ename": "ValueError",
     "evalue": "Human Height should not be over 3 meters.",
     "output_type": "error",
     "traceback": [
      "\u001b[1;31m---------------------------------------------------------------------------\u001b[0m",
      "\u001b[1;31mValueError\u001b[0m                                Traceback (most recent call last)",
      "\u001b[1;32mc:\\Users\\harsh\\Dropbox\\My PC (DESKTOP-5JVQ0UA)\\Desktop\\Python Development\\100 Days of Code\\Day 30.ipynb Cell 4\u001b[0m in \u001b[0;36m<cell line: 6>\u001b[1;34m()\u001b[0m\n\u001b[0;32m      <a href='vscode-notebook-cell:/c%3A/Users/harsh/Dropbox/My%20PC%20%28DESKTOP-5JVQ0UA%29/Desktop/Python%20Development/100%20Days%20of%20Code/Day%2030.ipynb#W4sZmlsZQ%3D%3D?line=3'>4</a>\u001b[0m weight \u001b[39m=\u001b[39m \u001b[39mint\u001b[39m(\u001b[39minput\u001b[39m(\u001b[39m\"\u001b[39m\u001b[39mWeight: \u001b[39m\u001b[39m\"\u001b[39m))\n\u001b[0;32m      <a href='vscode-notebook-cell:/c%3A/Users/harsh/Dropbox/My%20PC%20%28DESKTOP-5JVQ0UA%29/Desktop/Python%20Development/100%20Days%20of%20Code/Day%2030.ipynb#W4sZmlsZQ%3D%3D?line=5'>6</a>\u001b[0m \u001b[39mif\u001b[39;00m height \u001b[39m>\u001b[39m \u001b[39m3\u001b[39m:\n\u001b[1;32m----> <a href='vscode-notebook-cell:/c%3A/Users/harsh/Dropbox/My%20PC%20%28DESKTOP-5JVQ0UA%29/Desktop/Python%20Development/100%20Days%20of%20Code/Day%2030.ipynb#W4sZmlsZQ%3D%3D?line=6'>7</a>\u001b[0m     \u001b[39mraise\u001b[39;00m \u001b[39mValueError\u001b[39;00m(\u001b[39m\"\u001b[39m\u001b[39mHuman Height should not be over 3 meters.\u001b[39m\u001b[39m\"\u001b[39m)\n\u001b[0;32m      <a href='vscode-notebook-cell:/c%3A/Users/harsh/Dropbox/My%20PC%20%28DESKTOP-5JVQ0UA%29/Desktop/Python%20Development/100%20Days%20of%20Code/Day%2030.ipynb#W4sZmlsZQ%3D%3D?line=8'>9</a>\u001b[0m bmi \u001b[39m=\u001b[39m weight \u001b[39m/\u001b[39m height \u001b[39m*\u001b[39m\u001b[39m*\u001b[39m \u001b[39m2\u001b[39m\n\u001b[0;32m     <a href='vscode-notebook-cell:/c%3A/Users/harsh/Dropbox/My%20PC%20%28DESKTOP-5JVQ0UA%29/Desktop/Python%20Development/100%20Days%20of%20Code/Day%2030.ipynb#W4sZmlsZQ%3D%3D?line=9'>10</a>\u001b[0m \u001b[39mprint\u001b[39m(bmi)\n",
      "\u001b[1;31mValueError\u001b[0m: Human Height should not be over 3 meters."
     ]
    }
   ],
   "source": [
    "#BMI Example\n",
    "\n",
    "height = float(input(\"Height: \"))\n",
    "weight = int(input(\"Weight: \"))\n",
    "\n",
    "if height > 3:\n",
    "    raise ValueError(\"Human Height should not be over 3 meters.\") # raising error cuz, no human can be above 3 meters\n",
    "\n",
    "bmi = weight / height ** 2\n",
    "print(bmi)"
   ]
  }
 ],
 "metadata": {
  "kernelspec": {
   "display_name": "Python 3.10.5 64-bit",
   "language": "python",
   "name": "python3"
  },
  "language_info": {
   "codemirror_mode": {
    "name": "ipython",
    "version": 3
   },
   "file_extension": ".py",
   "mimetype": "text/x-python",
   "name": "python",
   "nbconvert_exporter": "python",
   "pygments_lexer": "ipython3",
   "version": "3.10.5"
  },
  "orig_nbformat": 4,
  "vscode": {
   "interpreter": {
    "hash": "e8899eb02dfbc033aab5733bdae1bd213fa031d40331094008e8673d99ebab63"
   }
  }
 },
 "nbformat": 4,
 "nbformat_minor": 2
}
