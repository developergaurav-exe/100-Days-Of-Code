{
 "cells": [
  {
   "cell_type": "markdown",
   "metadata": {},
   "source": [
    "### Advanced Authentication and POST/ PUT/ DELETE Requests"
   ]
  },
  {
   "cell_type": "markdown",
   "metadata": {},
   "source": [
    "#### Pixela API (Creating a User)"
   ]
  },
  {
   "cell_type": "code",
   "execution_count": 2,
   "metadata": {},
   "outputs": [],
   "source": [
    "import requests, api_keys\n",
    "\n",
    "pixela_endpoint = 'https://pixe.la/v1/users'\n",
    "\n",
    "user_params = {\n",
    "    \"token\": api_keys.PIXELA_TOKEN, # I made the token! Lol\n",
    "    \"username\": api_keys.PIXELA_USERNAME,\n",
    "    \"agreeTermsOfService\": \"yes\",\n",
    "    \"notMinor\": \"yes\",\n",
    "}\n",
    "\n",
    "# response = requests.post(url=pixela_endpoint, json=user_params) # ONCE USERNAME IS POSTED, RUNNING THESE LINES AGAIN WILL GIVE AN ERROR MESSGAE\n",
    "# print(response.text)"
   ]
  },
  {
   "cell_type": "markdown",
   "metadata": {},
   "source": [
    "#### Creating a graph"
   ]
  },
  {
   "cell_type": "code",
   "execution_count": 3,
   "metadata": {},
   "outputs": [],
   "source": [
    "import api_keys\n",
    "graph_endpoint = f\"{pixela_endpoint}/{api_keys.PIXELA_USERNAME}/graphs\"\n",
    "\n",
    "headers = {\n",
    "    \"X-USER-TOKEN\": api_keys.PIXELA_TOKEN  # sending in this format to prevent request sniffing as this is more secure\n",
    "} \n",
    "\n",
    "graph_config = {\n",
    "    \"id\": \"g1\",\n",
    "    \"name\": \"Daily Journal\",\n",
    "    \"unit\": \"min\",\n",
    "    \"type\": \"int\",\n",
    "    \"color\": \"sora\",\n",
    "}\n",
    "\n",
    "# response = requests.post(url=graph_endpoint, json=graph_config, headers=headers)\n",
    "# print(response.text)"
   ]
  },
  {
   "cell_type": "markdown",
   "metadata": {},
   "source": [
    "#### Date Output in datetime module"
   ]
  },
  {
   "cell_type": "code",
   "execution_count": 20,
   "metadata": {},
   "outputs": [
    {
     "name": "stdout",
     "output_type": "stream",
     "text": [
      "2022\n",
      "Saturday\n"
     ]
    },
    {
     "data": {
      "text/plain": [
       "'20220924'"
      ]
     },
     "execution_count": 20,
     "metadata": {},
     "output_type": "execute_result"
    }
   ],
   "source": [
    "import datetime\n",
    "\n",
    "x = datetime.datetime.now()\n",
    "\n",
    "print(x.year)\n",
    "print(x.strftime(\"%A\")) # formatting date objects into readable strings\n",
    "\n",
    "\"\"\"BUT THIS IS A LONG METHOD👇\"\"\"\n",
    "# def format_date():\n",
    "#     '''Formats date according to Pixela required Date'''\n",
    "#     import datetime\n",
    "#     return(''.join(str(datetime.datetime.now()).split()[0].split('-')))\n",
    "\n",
    "def format_date():\n",
    "    '''Formats today's date according to Pixela required Date'''\n",
    "    from datetime import datetime\n",
    "    return(datetime.now().strftime(\"%Y%m%d\")) # aggregate cluster of arguments passed\n",
    "\n",
    "format_date()"
   ]
  },
  {
   "cell_type": "markdown",
   "metadata": {},
   "source": [
    "#### Add a Pixel in the Grpah"
   ]
  },
  {
   "cell_type": "code",
   "execution_count": 21,
   "metadata": {},
   "outputs": [
    {
     "name": "stdout",
     "output_type": "stream",
     "text": [
      "{\"message\":\"Success.\",\"isSuccess\":true}\n"
     ]
    }
   ],
   "source": [
    "import random\n",
    "GRAPH_ID = 'g1'\n",
    "\n",
    "pixel_creation_endpoint = f\"{pixela_endpoint}/{api_keys.PIXELA_USERNAME}/graphs/{GRAPH_ID}\"\n",
    "\n",
    "headers = {\n",
    "    \"X-USER-TOKEN\": api_keys.PIXELA_TOKEN  # sending in this format to prevent request sniffing as this is more secure\n",
    "} \n",
    "\n",
    "pixel_data = {\n",
    "    'date': format_date(), # Formatting today's date to send it as a parameter\n",
    "    \"quantity\": str(random.randint(15,25)), # Take it as an input if you want to update graph daily\n",
    "}\n",
    "\n",
    "response = requests.post(url=pixel_creation_endpoint, json=pixel_data, headers=headers)\n",
    "print(response.text)"
   ]
  },
  {
   "cell_type": "markdown",
   "metadata": {},
   "source": [
    "#### Using Put and Delete requests in Pixela"
   ]
  },
  {
   "cell_type": "markdown",
   "metadata": {},
   "source": [
    "##### Put Request"
   ]
  },
  {
   "cell_type": "code",
   "execution_count": 35,
   "metadata": {},
   "outputs": [
    {
     "name": "stdout",
     "output_type": "stream",
     "text": [
      "{\"message\":\"Success.\",\"isSuccess\":true}\n"
     ]
    }
   ],
   "source": [
    "put_pixel_endpoint = f\"{pixela_endpoint}/{api_keys.PIXELA_USERNAME}/graphs/{GRAPH_ID}/20220922\" # putting pixel at day before yesterday\n",
    "\n",
    "put_pixel_params = {\n",
    "    \"quantity\": \"20\", \n",
    "}\n",
    "\n",
    "response = requests.put(url= put_pixel_endpoint, json=put_pixel_params, headers=headers)\n",
    "print(response.text)"
   ]
  },
  {
   "cell_type": "markdown",
   "metadata": {},
   "source": [
    "##### Delete Request"
   ]
  },
  {
   "cell_type": "code",
   "execution_count": 36,
   "metadata": {},
   "outputs": [
    {
     "name": "stdout",
     "output_type": "stream",
     "text": [
      "{\"message\":\"Success.\",\"isSuccess\":true}\n"
     ]
    }
   ],
   "source": [
    "delete_pixel_endpoint = f\"{pixela_endpoint}/{api_keys.PIXELA_USERNAME}/graphs/{GRAPH_ID}/20220922\" # Deleting day before yesterday's pixel\n",
    "\n",
    "response = requests.delete(delete_pixel_endpoint, headers=headers)\n",
    "print(response.text)"
   ]
  },
  {
   "cell_type": "markdown",
   "metadata": {},
   "source": [
    "#### My Graph Visible at: https://pixe.la/v1/users/harsh07/graphs/g1.html"
   ]
  }
 ],
 "metadata": {
  "kernelspec": {
   "display_name": "Python 3.10.5 64-bit",
   "language": "python",
   "name": "python3"
  },
  "language_info": {
   "codemirror_mode": {
    "name": "ipython",
    "version": 3
   },
   "file_extension": ".py",
   "mimetype": "text/x-python",
   "name": "python",
   "nbconvert_exporter": "python",
   "pygments_lexer": "ipython3",
   "version": "3.10.5"
  },
  "orig_nbformat": 4,
  "vscode": {
   "interpreter": {
    "hash": "e8899eb02dfbc033aab5733bdae1bd213fa031d40331094008e8673d99ebab63"
   }
  }
 },
 "nbformat": 4,
 "nbformat_minor": 2
}
