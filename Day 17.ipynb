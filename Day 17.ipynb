{
 "cells": [
  {
   "cell_type": "markdown",
   "metadata": {},
   "source": [
    "### Creating Classes"
   ]
  },
  {
   "cell_type": "markdown",
   "metadata": {},
   "source": [
    "Types of Casing:\n",
    "- PascalCase done to name Classes\n",
    "- camelCasingExample can be done while naming functions\n",
    "- snake_casing done to name variables "
   ]
  },
  {
   "cell_type": "markdown",
   "metadata": {},
   "source": [
    "#### True/False Quiz Game"
   ]
  },
  {
   "cell_type": "markdown",
   "metadata": {},
   "source": [
    "main.py"
   ]
  },
  {
   "cell_type": "code",
   "execution_count": 11,
   "metadata": {},
   "outputs": [],
   "source": [
    "from question_model import Question\n",
    "from data import question_data\n",
    "from quiz_brain import QuizBrain\n",
    "\n",
    "question_bank = []\n",
    "for i in question_data[0]['results']:\n",
    "    question_bank.append(Question(i['question'], i['correct_answer']))\n",
    "\n",
    "\n",
    "# # TO OUTPUT EACH QUESTION\n",
    "# for i in range(len(question_bank)):\n",
    "#     print(question_bank[i].text, question_bank[i].answer)"
   ]
  },
  {
   "cell_type": "code",
   "execution_count": 12,
   "metadata": {},
   "outputs": [
    {
     "data": {
      "text/plain": [
       "'The first computer bug was formed by faulty wires.'"
      ]
     },
     "execution_count": 12,
     "metadata": {},
     "output_type": "execute_result"
    }
   ],
   "source": [
    "question_data[0]['results'][0]['question']"
   ]
  },
  {
   "cell_type": "code",
   "execution_count": 13,
   "metadata": {},
   "outputs": [
    {
     "name": "stdout",
     "output_type": "stream",
     "text": [
      "That's wrong.\n",
      "The Correct answer was: False.\n",
      "Your Current Score is: 0/1\n",
      "\n",
      "You got it right!\n",
      "The Correct answer was: False.\n",
      "Your Current Score is: 1/2\n",
      "\n",
      "That's wrong.\n",
      "The Correct answer was: False.\n",
      "Your Current Score is: 1/3\n",
      "\n",
      "You got it right!\n",
      "The Correct answer was: True.\n",
      "Your Current Score is: 2/4\n",
      "\n",
      "That's wrong.\n",
      "The Correct answer was: False.\n",
      "Your Current Score is: 2/5\n",
      "\n",
      "You got it right!\n",
      "The Correct answer was: True.\n",
      "Your Current Score is: 3/6\n",
      "\n",
      "You got it right!\n",
      "The Correct answer was: True.\n",
      "Your Current Score is: 4/7\n",
      "\n",
      "You got it right!\n",
      "The Correct answer was: True.\n",
      "Your Current Score is: 5/8\n",
      "\n",
      "That's wrong.\n",
      "The Correct answer was: False.\n",
      "Your Current Score is: 5/9\n",
      "\n",
      "That's wrong.\n",
      "The Correct answer was: False.\n",
      "Your Current Score is: 5/10\n",
      "\n",
      "Congrats! You've Completed the Test.\n",
      "Your Final Score was: 5/10\n"
     ]
    }
   ],
   "source": [
    "quiz = QuizBrain(question_bank)\n",
    "quiz.next_question()\n",
    "\n",
    "while quiz.still_has_questions():\n",
    "    quiz.next_question()\n",
    "\n",
    "print(\"Congrats! You've Completed the Test.\")\n",
    "print(f\"Your Final Score was: {quiz.score}/{quiz.question_number}\")\n"
   ]
  },
  {
   "cell_type": "markdown",
   "metadata": {},
   "source": [
    "#### Updated question bank with new questions \n",
    "##### Used Open Trivia Database API to add new questions\n",
    "- Question Data available in data.py \n",
    "- Changed py to json, Then beautified it using VS Code *Shortcut: Alt + Shift + F\n",
    "- Downloaded another code formatter: Beautifier but Default is VS Code for now. "
   ]
  }
 ],
 "metadata": {
  "kernelspec": {
   "display_name": "Python 3.10.5 64-bit",
   "language": "python",
   "name": "python3"
  },
  "language_info": {
   "codemirror_mode": {
    "name": "ipython",
    "version": 3
   },
   "file_extension": ".py",
   "mimetype": "text/x-python",
   "name": "python",
   "nbconvert_exporter": "python",
   "pygments_lexer": "ipython3",
   "version": "3.10.5"
  },
  "orig_nbformat": 4,
  "vscode": {
   "interpreter": {
    "hash": "e8899eb02dfbc033aab5733bdae1bd213fa031d40331094008e8673d99ebab63"
   }
  }
 },
 "nbformat": 4,
 "nbformat_minor": 2
}
